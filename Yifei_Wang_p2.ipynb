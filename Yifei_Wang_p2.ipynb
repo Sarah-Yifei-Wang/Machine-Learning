{
 "cells": [
  {
   "cell_type": "markdown",
   "metadata": {
    "colab_type": "text",
    "id": "6t55qCf3Fsxa"
   },
   "source": [
    "# Project 2: Topic Classification"
   ]
  },
  {
   "cell_type": "markdown",
   "metadata": {
    "colab_type": "text",
    "id": "j9-9G8z4Fsxd"
   },
   "source": [
    "In this project, you'll work with text data from newsgroup posts on a variety of topics. You'll train classifiers to distinguish posts by topics inferred from the text. Whereas with digit classification, where each input is relatively dense (represented as a 28x28 matrix of pixels, many of which are non-zero), here each document is relatively sparse (represented as a bag-of-words). Only a few words of the total vocabulary are active in any given document. The assumption is that a label depends only on the count of words, not their order.\n",
    "\n",
    "The `sklearn` documentation on feature extraction may be useful:\n",
    "http://scikit-learn.org/stable/modules/feature_extraction.html\n",
    "\n",
    "Each problem can be addressed succinctly with the included packages -- please don't add any more. Grading will be based on writing clean, commented code, along with a few short answers.\n",
    "\n",
    "As always, you're welcome to work on the project in groups and discuss ideas on Slack, but <b> please prepare your own write-up with your own code. </b>"
   ]
  },
  {
   "cell_type": "code",
   "execution_count": 1,
   "metadata": {
    "colab": {},
    "colab_type": "code",
    "id": "AUYW83LqFsxd"
   },
   "outputs": [
    {
     "name": "stderr",
     "output_type": "stream",
     "text": [
      "\n",
      "Bad key \"text.kerning_factor\" on line 4 in\n",
      "C:\\Users\\sarahwang\\anaconda3\\lib\\site-packages\\matplotlib\\mpl-data\\stylelib\\_classic_test_patch.mplstyle.\n",
      "You probably need to get an updated matplotlibrc file from\n",
      "http://github.com/matplotlib/matplotlib/blob/master/matplotlibrc.template\n",
      "or from the matplotlib source distribution\n"
     ]
    }
   ],
   "source": [
    "# This tells matplotlib not to try opening a new window for each plot.\n",
    "%matplotlib inline\n",
    "\n",
    "# General libraries.\n",
    "import re\n",
    "import numpy as np\n",
    "import matplotlib.pyplot as plt\n",
    "\n",
    "# SK-learn libraries for learning.\n",
    "from sklearn.pipeline import Pipeline\n",
    "from sklearn.neighbors import KNeighborsClassifier\n",
    "from sklearn.linear_model import LogisticRegression\n",
    "from sklearn.naive_bayes import BernoulliNB\n",
    "from sklearn.naive_bayes import MultinomialNB\n",
    "from sklearn.model_selection import GridSearchCV\n",
    "\n",
    "# SK-learn libraries for evaluation.\n",
    "from sklearn.metrics import confusion_matrix\n",
    "from sklearn import metrics\n",
    "from sklearn.metrics import classification_report\n",
    "\n",
    "# SK-learn library for importing the newsgroup data.\n",
    "from sklearn.datasets import fetch_20newsgroups\n",
    "\n",
    "# SK-learn libraries for feature extraction from text.\n",
    "from sklearn.feature_extraction.text import *\n",
    "\n",
    "import nltk"
   ]
  },
  {
   "cell_type": "markdown",
   "metadata": {
    "colab_type": "text",
    "id": "_ALNjGgCFsxg"
   },
   "source": [
    "Load the data, stripping out metadata so that only textual features will be used, and restricting documents to 4 specific topics. By default, newsgroups data is split into training and test sets, but here the test set gets further split into development and test sets.  (If you remove the categories argument from the fetch function calls, you'd get documents from all 20 topics.)"
   ]
  },
  {
   "cell_type": "code",
   "execution_count": 2,
   "metadata": {
    "colab": {},
    "colab_type": "code",
    "id": "ecYpcoxaFsxh"
   },
   "outputs": [
    {
     "name": "stdout",
     "output_type": "stream",
     "text": [
      "training label shape: (2034,)\n",
      "dev label shape: (676,)\n",
      "test label shape: (677,)\n",
      "labels names: ['alt.atheism', 'comp.graphics', 'sci.space', 'talk.religion.misc']\n"
     ]
    }
   ],
   "source": [
    "categories = ['alt.atheism', 'talk.religion.misc', 'comp.graphics', 'sci.space']\n",
    "newsgroups_train = fetch_20newsgroups(subset='train',\n",
    "                                      remove=('headers', 'footers', 'quotes'),\n",
    "                                      categories=categories)\n",
    "newsgroups_test  = fetch_20newsgroups(subset='test',\n",
    "                                      remove=('headers', 'footers', 'quotes'),\n",
    "                                      categories=categories)\n",
    "\n",
    "num_test = int(len(newsgroups_test.target) / 2)\n",
    "test_data, test_labels   = newsgroups_test.data[num_test:], newsgroups_test.target[num_test:]\n",
    "dev_data, dev_labels     = newsgroups_test.data[:num_test], newsgroups_test.target[:num_test]\n",
    "train_data, train_labels = newsgroups_train.data, newsgroups_train.target\n",
    "\n",
    "print('training label shape:', train_labels.shape)\n",
    "print('dev label shape:',      dev_labels.shape)\n",
    "print('test label shape:',     test_labels.shape)\n",
    "print('labels names:',         newsgroups_train.target_names)"
   ]
  },
  {
   "cell_type": "markdown",
   "metadata": {
    "colab_type": "text",
    "id": "OHTnOke6Fsxk"
   },
   "source": [
    "### Part 1:\n",
    "\n",
    "For each of the first 5 training examples, print the text of the message along with the label."
   ]
  },
  {
   "cell_type": "code",
   "execution_count": 3,
   "metadata": {
    "colab": {},
    "colab_type": "code",
    "id": "X8zhA06xFsxl"
   },
   "outputs": [
    {
     "name": "stdout",
     "output_type": "stream",
     "text": [
      "Label:\n",
      " talk.religion.misc \n",
      "\n",
      "Text:\n",
      " Hi,\n",
      "\n",
      "I've noticed that if you only save a model (with all your mapping planes\n",
      "positioned carefully) to a .3DS file that when you reload it after restarting\n",
      "3DS, they are given a default position and orientation.  But if you save\n",
      "to a .PRJ file their positions/orientation are preserved.  Does anyone\n",
      "know why this information is not stored in the .3DS file?  Nothing is\n",
      "explicitly said in the manual about saving texture rules in the .PRJ file. \n",
      "I'd like to be able to read the texture rule information, does anyone have \n",
      "the format for the .PRJ file?\n",
      "\n",
      "Is the .CEL file format available from somewhere?\n",
      "\n",
      "Rych \n",
      "\n",
      "Label:\n",
      " sci.space \n",
      "\n",
      "Text:\n",
      " \n",
      "\n",
      "Seems to be, barring evidence to the contrary, that Koresh was simply\n",
      "another deranged fanatic who thought it neccessary to take a whole bunch of\n",
      "folks with him, children and all, to satisfy his delusional mania. Jim\n",
      "Jones, circa 1993.\n",
      "\n",
      "\n",
      "Nope - fruitcakes like Koresh have been demonstrating such evil corruption\n",
      "for centuries. \n",
      "\n",
      "Label:\n",
      " comp.graphics \n",
      "\n",
      "Text:\n",
      " \n",
      " >In article <1993Apr19.020359.26996@sq.sq.com>, msb@sq.sq.com (Mark Brader) \n",
      "\n",
      "MB>                                                             So the\n",
      "MB> 1970 figure seems unlikely to actually be anything but a perijove.\n",
      "\n",
      "JG>Sorry, _perijoves_...I'm not used to talking this language.\n",
      "\n",
      "Couldn't we just say periapsis or apoapsis?\n",
      "\n",
      "  \n",
      "\n",
      "Label:\n",
      " alt.atheism \n",
      "\n",
      "Text:\n",
      " I have a request for those who would like to see Charley Wingate\n",
      "respond to the \"Charley Challenges\" (and judging from my e-mail, there\n",
      "appear to be quite a few of you.)  \n",
      "\n",
      "It is clear that Mr. Wingate intends to continue to post tangential or\n",
      "unrelated articles while ingoring the Challenges themselves.  Between\n",
      "the last two re-postings of the Challenges, I noted perhaps a dozen or\n",
      "more posts by Mr. Wingate, none of which answered a single Challenge.  \n",
      "\n",
      "It seems unmistakable to me that Mr. Wingate hopes that the questions\n",
      "will just go away, and he is doing his level best to change the\n",
      "subject.  Given that this seems a rather common net.theist tactic, I\n",
      "would like to suggest that we impress upon him our desire for answers,\n",
      "in the following manner:\n",
      "\n",
      "1. Ignore any future articles by Mr. Wingate that do not address the\n",
      "Challenges, until he answers them or explictly announces that he\n",
      "refuses to do so.\n",
      "\n",
      "--or--\n",
      "\n",
      "2. If you must respond to one of his articles, include within it\n",
      "something similar to the following:\n",
      "\n",
      "    \"Please answer the questions posed to you in the Charley Challenges.\"\n",
      "\n",
      "Really, I'm not looking to humiliate anyone here, I just want some\n",
      "honest answers.  You wouldn't think that honesty would be too much to\n",
      "ask from a devout Christian, would you?  \n",
      "\n",
      "Nevermind, that was a rhetorical question. \n",
      "\n",
      "Label:\n",
      " comp.graphics \n",
      "\n",
      "Text:\n",
      " AW&ST  had a brief blurb on a Manned Lunar Exploration confernce\n",
      "May 7th  at Crystal City Virginia, under the auspices of AIAA.\n",
      "\n",
      "Does anyone know more about this?  How much, to attend????\n",
      "\n",
      "Anyone want to go? \n",
      "\n"
     ]
    }
   ],
   "source": [
    "def P1(num_examples=5):\n",
    "    ### STUDENT START ###\n",
    "    for label, text in zip(newsgroups_train.target[:num_examples],newsgroups_train.data[:num_examples]):\n",
    "        print (f\"Label:\\n {categories[label]} \\n\")\n",
    "        print (f\"Text:\\n {text} \\n\")\n",
    "    ### STUDENT END ###\n",
    "\n",
    "P1(5)"
   ]
  },
  {
   "cell_type": "markdown",
   "metadata": {
    "colab_type": "text",
    "id": "onfno6uHFsxm"
   },
   "source": [
    "\n",
    "### Part 2:\n",
    "\n",
    "Transform the training data into a matrix of **word** unigram feature vectors.  What is the size of the vocabulary? What is the average number of non-zero features per example?  What is the fraction of the non-zero entries in the matrix?  What are the 0th and last feature strings (in alphabetical order)?<br/>\n",
    "_Use `CountVectorization` and its `.fit_transform` method.  Use `.nnz` and `.shape` attributes, and `.get_feature_names` method._\n",
    "\n",
    "Now transform the training data into a matrix of **word** unigram feature vectors using your own vocabulary with these 4 words: [\"atheism\", \"graphics\", \"space\", \"religion\"].  Confirm the size of the vocabulary. What is the average number of non-zero features per example?<br/>\n",
    "_Use `CountVectorization(vocabulary=...)` and its `.transform` method._\n",
    "\n",
    "Now transform the training data into a matrix of **character** bigram and trigram feature vectors.  What is the size of the vocabulary?<br/>\n",
    "_Use `CountVectorization(analyzer=..., ngram_range=...)` and its `.fit_transform` method._\n",
    "\n",
    "Now transform the training data into a matrix of **word** unigram feature vectors and prune words that appear in fewer than 10 documents.  What is the size of the vocabulary?<br/>\n",
    "_Use `CountVectorization(min_df=...)` and its `.fit_transform` method._\n",
    "\n",
    "Now again transform the training data into a matrix of **word** unigram feature vectors. What is the fraction of words in the development vocabulary that is missing from the training vocabulary?<br/>\n",
    "_Hint: Build vocabularies for both train and dev and look at the size of the difference._\n",
    "\n",
    "Notes:\n",
    "* `.fit_transform` makes 2 passes through the data: first it computes the vocabulary (\"fit\"), second it converts the raw text into feature vectors using the vocabulary (\"transform\").\n",
    "* `.fit_transform` and `.transform` return sparse matrix objects.  See about them at http://docs.scipy.org/doc/scipy-0.14.0/reference/generated/scipy.sparse.csr_matrix.html.  "
   ]
  },
  {
   "cell_type": "code",
   "execution_count": 4,
   "metadata": {
    "colab": {},
    "colab_type": "code",
    "id": "LyVwk5RvFsxn"
   },
   "outputs": [
    {
     "name": "stdout",
     "output_type": "stream",
     "text": [
      "Size of the vocabulary: 26879\n",
      "The average number of non-zero features per example: 96.70599803343165\n",
      "The fraction of the non-zero entries in the matrix: 0.0035978272269590263\n",
      "The 0th feature strings: 00\n",
      "The last feature strings: zyxel\n",
      "The average number of non-zero features per example: 0.26843657817109146\n",
      "Size of the vocabulary: 35478\n",
      "Size of the vocabulary: 3064\n",
      "The fraction of words in the development vocabulary that is missing from the training vocabulary: 0.24787640034470024 of dev size or 0.14981956173964806 of training size\n"
     ]
    }
   ],
   "source": [
    "def P2():\n",
    "    ### STUDENT START ###\n",
    "    #Transform the training data into a matrix of word unigram feature vectors.\n",
    "    vectorizer = CountVectorizer()\n",
    "    vectorized = vectorizer.fit_transform(train_data)\n",
    "    size = vectorized.shape[1]\n",
    "    print(f'Size of the vocabulary: {size}')\n",
    "    avg = float(vectorized.nnz)/vectorized.shape[0]\n",
    "    print(f'The average number of non-zero features per example: {avg}')\n",
    "    fraction = float(vectorized.nnz)/(vectorized.shape[0]*vectorized.shape[1])\n",
    "    print(f'The fraction of the non-zero entries in the matrix: {fraction}')\n",
    "    print(f'The 0th feature strings: {vectorizer.get_feature_names()[0]}')\n",
    "    print(f'The last feature strings: {vectorizer.get_feature_names()[-1]}')\n",
    "    \n",
    "    #Now transform the training data into a matrix of word unigram feature vectors using your own vocabulary with these 4 words: [\"atheism\", \"graphics\", \"space\", \"religion\"]\n",
    "    vectorizer2 = CountVectorizer(vocabulary= [\"atheism\", \"graphics\", \"space\", \"religion\"])      \n",
    "    vectorized2 = vectorizer2.fit_transform(train_data)    \n",
    "    avg2 = float(vectorized2.nnz)/vectorized2.shape[0]\n",
    "    print(f'The average number of non-zero features per example: {avg2}')\n",
    "    \n",
    "    #Now transform the training data into a matrix of character bigram and trigram feature vectors.\n",
    "    vectorizer3 = CountVectorizer(analyzer=\"char\",ngram_range=(2,3))    \n",
    "    vectorized3 = vectorizer3.fit_transform(train_data)\n",
    "    size3 = vectorized3.shape[1]\n",
    "    print(f'Size of the vocabulary: {size3}')\n",
    "    #Now transform the training data into a matrix of word unigram feature vectors and prune words that appear in fewer than 10 documents.\n",
    "    vectorizer4 = CountVectorizer(min_df=10)    \n",
    "    vectorized4 = vectorizer4.fit_transform(train_data)\n",
    "    size4 = vectorized4.shape[1]\n",
    "    print(f'Size of the vocabulary: {size4}')\n",
    "    \n",
    "    #Now again transform the training data into a matrix of word unigram feature vectors.\n",
    "    vectorizer_dev =  CountVectorizer()\n",
    "    vectorized_dev = vectorizer_dev.fit_transform(dev_data)\n",
    "    vocabulary_size_dev = vectorized_dev.shape[1]\n",
    "    strings_in_dev_not_in_train = set(vectorizer_dev.get_feature_names()).difference(vectorizer.get_feature_names())\n",
    "    fraction_missing_dev = float(len(strings_in_dev_not_in_train))/vocabulary_size_dev\n",
    "    fraction_missing_train = float(len(strings_in_dev_not_in_train))/size\n",
    "    print(f'The fraction of words in the development vocabulary that is missing from the training vocabulary: {fraction_missing_dev} of dev size or {fraction_missing_train} of training size')\n",
    "    ### STUDENT END ###\n",
    "\n",
    "P2()"
   ]
  },
  {
   "cell_type": "markdown",
   "metadata": {
    "colab_type": "text",
    "id": "ydjkRh6LFsxp"
   },
   "source": [
    "### Part 3:\n",
    "\n",
    "Transform the training and development data to matrices of word unigram feature vectors.\n",
    "\n",
    "1. Produce several k-Nearest Neigbors models by varying k, including one with k set to optimize f1 score.  For each model, show the k value and f1 score.\n",
    "1. Produce several Naive Bayes models by varying smoothing (alpha), including one with alpha set approximately to optimize f1 score.  For each model, show the alpha value and f1 score.\n",
    "1. Produce several Logistic Regression models by varying L2 regularization strength (C), including one with C set approximately to optimize f1 score.  For each model, show the C value, f1 score, and sum of squared weights for each topic.\n",
    "\n",
    "* Why doesn't k-Nearest Neighbors work well for this problem?\n",
    "* Why doesn't Logistic Regression work as well as Naive Bayes does?\n",
    "* What is the relationship between logistic regression's sum of squared weights vs. C value?\n",
    "\n",
    "Notes:\n",
    "* Train on the transformed training data.\n",
    "* Evaluate on the transformed development data.\n",
    "* You can use `CountVectorizer` and its `.fit_transform` and `.transform` methods to transform data.\n",
    "* You can use `KNeighborsClassifier(...)` to produce a k-Nearest Neighbors model.\n",
    "* You can use `MultinomialNB(...)` to produce a Naive Bayes model.\n",
    "* You can use `LogisticRegression(C=..., solver=\"liblinear\", multi_class=\"auto\")` to produce a Logistic Regression model.\n",
    "* You can use `LogisticRegression`'s `.coef_` method to get weights for each topic.\n",
    "* You can use `metrics.f1_score(..., average=\"weighted\")` to compute f1 score."
   ]
  },
  {
   "cell_type": "code",
   "execution_count": 5,
   "metadata": {
    "colab": {},
    "colab_type": "code",
    "id": "VvhpODdWFsxp"
   },
   "outputs": [
    {
     "name": "stdout",
     "output_type": "stream",
     "text": [
      " K is 1, F1-score of KNN: 0.3805030018531525\n",
      " K is 2, F1-score of KNN: 0.38054212404441684\n",
      " K is 3, F1-score of KNN: 0.4084150225437623\n",
      " K is 4, F1-score of KNN: 0.4031227993847515\n",
      " K is 5, F1-score of KNN: 0.4287607236218357\n",
      " K 5 has optimal f1 score of 0.4287607236218357\n",
      " Alpha is 1e-09, F1-score of Naive Bayes: 0.7490691140139345\n",
      " Alpha is 0.1724137940689655, F1-score of Naive Bayes: 0.7860617245406876\n",
      " Alpha is 0.34482758713793105, F1-score of Naive Bayes: 0.787644978407044\n",
      " Alpha is 0.5172413802068965, F1-score of Naive Bayes: 0.7862862961995258\n",
      " Alpha is 0.689655173275862, F1-score of Naive Bayes: 0.7847459594060138\n",
      " Alpha is 0.8620689663448275, F1-score of Naive Bayes: 0.7810859843567709\n",
      " Alpha is 1.034482759413793, F1-score of Naive Bayes: 0.7777320236017224\n",
      " Alpha is 1.2068965524827586, F1-score of Naive Bayes: 0.7712103067772015\n",
      " Alpha is 1.3793103455517242, F1-score of Naive Bayes: 0.7714404484397059\n",
      " Alpha is 1.5517241386206897, F1-score of Naive Bayes: 0.771348752056862\n",
      " Alpha is 1.7241379316896552, F1-score of Naive Bayes: 0.771280465772347\n",
      " Alpha is 1.8965517247586208, F1-score of Naive Bayes: 0.7663667608943273\n",
      " Alpha is 2.068965517827586, F1-score of Naive Bayes: 0.7689966472342658\n",
      " Alpha is 2.241379310896552, F1-score of Naive Bayes: 0.7640405044375715\n",
      " Alpha is 2.413793103965517, F1-score of Naive Bayes: 0.7604729453613784\n",
      " Alpha is 2.586206897034483, F1-score of Naive Bayes: 0.760219671633201\n",
      " Alpha is 2.7586206901034482, F1-score of Naive Bayes: 0.7579036215057344\n",
      " Alpha is 2.9310344831724136, F1-score of Naive Bayes: 0.755517703266233\n",
      " Alpha is 3.1034482762413793, F1-score of Naive Bayes: 0.7540837683726805\n",
      " Alpha is 3.2758620693103446, F1-score of Naive Bayes: 0.7501891628037674\n",
      " Alpha is 3.4482758623793104, F1-score of Naive Bayes: 0.7466722592360867\n",
      " Alpha is 3.6206896554482757, F1-score of Naive Bayes: 0.7413846839942168\n",
      " Alpha is 3.7931034485172415, F1-score of Naive Bayes: 0.7358667903121068\n",
      " Alpha is 3.9655172415862068, F1-score of Naive Bayes: 0.735696349488766\n",
      " Alpha is 4.137931034655172, F1-score of Naive Bayes: 0.7335337084613502\n",
      " Alpha is 4.310344827724138, F1-score of Naive Bayes: 0.7292037491729157\n",
      " Alpha is 4.482758620793104, F1-score of Naive Bayes: 0.7292037491729157\n",
      " Alpha is 4.6551724138620685, F1-score of Naive Bayes: 0.7262375755367598\n",
      " Alpha is 4.827586206931034, F1-score of Naive Bayes: 0.724788107819782\n",
      " Alpha is 5.0, F1-score of Naive Bayes: 0.7234892095047329\n",
      "Alpha 0.34482758713793105 has optimal f1 score of 0.787644978407044\n"
     ]
    },
    {
     "name": "stderr",
     "output_type": "stream",
     "text": [
      "C:\\Users\\sarahwang\\anaconda3\\lib\\site-packages\\sklearn\\linear_model\\logistic.py:433: FutureWarning: Default solver will be changed to 'lbfgs' in 0.22. Specify a solver to silence this warning.\n",
      "  FutureWarning)\n",
      "C:\\Users\\sarahwang\\anaconda3\\lib\\site-packages\\sklearn\\linear_model\\logistic.py:460: FutureWarning: Default multi_class will be changed to 'auto' in 0.22. Specify the multi_class option to silence this warning.\n",
      "  \"this warning.\", FutureWarning)\n"
     ]
    },
    {
     "name": "stdout",
     "output_type": "stream",
     "text": [
      " C value is 0.0, F1-score is 0.36519316740206303, and sum of squared weights is [0.0, 0.0, 0.0, 0.0]\n",
      " C value is 0.22, F1-score is 0.7074106551088876, and sum of squared weights is [54.32, 46.31, 53.68, 46.66]\n",
      " C value is 0.44, F1-score is 0.7052789695911175, and sum of squared weights is [93.97, 76.63, 90.98, 81.4]\n",
      " C value is 0.67, F1-score is 0.6955933920829318, and sum of squared weights is [126.4, 100.83, 120.9, 109.94]\n",
      " C value is 0.89, F1-score is 0.694281290097654, and sum of squared weights is [154.25, 121.55, 146.38, 134.56]\n",
      " C value is 1.11, F1-score is 0.6948409274379154, and sum of squared weights is [178.98, 139.71, 168.82, 156.38]\n",
      " C value is 1.33, F1-score is 0.6904779034670234, and sum of squared weights is [201.18, 156.13, 189.03, 176.14]\n",
      " C value is 1.56, F1-score is 0.6905320168042494, and sum of squared weights is [221.56, 171.15, 207.31, 194.28]\n",
      " C value is 1.78, F1-score is 0.6923682134497545, and sum of squared weights is [240.27, 184.96, 224.15, 211.01]\n",
      " C value is 2.0, F1-score is 0.6940391175616126, and sum of squared weights is [257.63, 197.94, 239.97, 226.71]\n",
      "C value 0.2222311111111111 has optimal f1 score of 0.7074106551088876\n"
     ]
    }
   ],
   "source": [
    "from sklearn.metrics import f1_score\n",
    "    \n",
    "def P3():\n",
    "    #Produce several k-Nearest Neigbors models by varying k, including one with k set to optimize f1 score. For each model, show the k value and f1 score.\n",
    "    best_fscore = 0\n",
    "    for param in [1,2,3,4,5]:\n",
    "        KNN = Pipeline([('vect', CountVectorizer()),\n",
    "                     ('clf', KNeighborsClassifier(n_neighbors=param)),\n",
    "                     ])\n",
    "        KNN = KNN.fit(train_data, train_labels)\n",
    "        KNN_predicted = KNN.predict(dev_data)\n",
    "        fscore = f1_score(dev_labels,KNN_predicted,average='weighted')\n",
    "        if fscore > best_fscore:\n",
    "            best_fscore = fscore\n",
    "            best_k = param\n",
    "        print (f\" K is {param}, F1-score of KNN: {fscore}\" )\n",
    "    print(f' K {best_k} has optimal f1 score of {best_fscore}')\n",
    "    \n",
    "    #Produce several Naive Bayes models by varying smoothing (alpha), including one with alpha set approximately to optimize f1 score. For each model, show the alpha value and f1 score.\n",
    "    \n",
    "    best_fscore = 0\n",
    "    for param in np.linspace(1e-9,5,30):\n",
    "        MNB = Pipeline([('vect', CountVectorizer()),\n",
    "                         ('clf', MultinomialNB(param)),\n",
    "                         ])\n",
    "        MNB = MNB.fit(train_data, train_labels)\n",
    "        MNB_predicted = MNB.predict(dev_data)\n",
    "        fscore = f1_score(dev_labels,MNB_predicted,average='weighted')\n",
    "        if fscore > best_fscore:\n",
    "            best_fscore = fscore\n",
    "            best_alpha = param\n",
    "        print (f\" Alpha is {param}, F1-score of Naive Bayes: {fscore}\" )\n",
    "    print(f'Alpha {best_alpha} has optimal f1 score of {best_fscore}')\n",
    "    \n",
    "    #Produce several Logistic Regression models by varying L2 regularization strength (C), including one with C set approximately to optimize f1 score. For each model, show the C value, f1 score, and sum of squared weights for each topic.\n",
    "    \n",
    "    best_fscore = 0\n",
    "    for param in np.linspace(1e-5,2,10):\n",
    "        lg = Pipeline([('vect', CountVectorizer()),\n",
    "                         ('clf', LogisticRegression(C=param)),\n",
    "                         ])\n",
    "        lg = lg.fit(train_data, train_labels)\n",
    "        lg_predicted = lg.predict(dev_data)\n",
    "        fscore = f1_score(dev_labels,lg_predicted,average='weighted')\n",
    "        if fscore > best_fscore:\n",
    "            best_fscore = fscore\n",
    "            best_c = param\n",
    "        sum_square_weights = [round(sum(lg.named_steps['clf'].coef_[category_num]**2),2)\n",
    "                                                                          for category_num in range(4)]\n",
    "        print (f\" C value is {round(param, 2)}, F1-score is {fscore}, and sum of squared weights is {sum_square_weights}\" )\n",
    "    print(f'C value {best_c} has optimal f1 score of {best_fscore}')\n",
    "    \n",
    "P3()"
   ]
  },
  {
   "cell_type": "markdown",
   "metadata": {},
   "source": [
    "Why doesn't k-Nearest Neighbors work well for this problem? Because the feature space is very sparse from each other, it has a hard time trying to differentiatie/compare between training examples\n",
    "\n",
    "Why doesn't Logistic Regression work as well as Naive Bayes does? Because there is large number of features compared to the number of training samples\n",
    "\n",
    "What is the relationship between logistic regression's sum of squared weights vs. C value? Sum of squared weights and C value are positively correlated. If the penalty is small, the coefficients are allowed to be further away from 0, however, when the penalty is large, they shrank towards 0."
   ]
  },
  {
   "cell_type": "markdown",
   "metadata": {
    "colab_type": "text",
    "id": "dGEjsm_uFsxr"
   },
   "source": [
    "### Part 4:\n",
    "\n",
    "Transform the data to a matrix of word **bigram** feature vectors.  Produce a Logistic Regression model.  For each topic, find the 5 features with the largest weights (that's 20 features in total).  Show a 20 row (features) x 4 column (topics) table of the weights.\n",
    "\n",
    "Do you see any surprising features in this table?\n",
    "\n",
    "Notes:\n",
    "* Train on the transformed training data.\n",
    "* You can use `CountVectorizer` and its `.fit_transform` method to transform data.\n",
    "* You can use `LogisticRegression(C=0.5, solver=\"liblinear\", multi_class=\"auto\")` to produce a Logistic Regression model.\n",
    "* You can use `LogisticRegression`'s `.coef_` method to get weights for each topic.\n",
    "* You can use `np.argsort` to get indices sorted by element value. "
   ]
  },
  {
   "cell_type": "code",
   "execution_count": 6,
   "metadata": {
    "colab": {},
    "colab_type": "code",
    "id": "WN51Nv4fFsxs"
   },
   "outputs": [
    {
     "name": "stdout",
     "output_type": "stream",
     "text": [
      "\n",
      "Bigrams\n",
      "\n",
      "|| in this                        ||   0.36223|  -0.00991|  -0.37137|  -0.08571|\n",
      "|| for the                        ||  -0.36596|   0.20903|  -0.06999|  -0.10565|\n",
      "|| claim that                     ||   0.40469|  -0.13775|  -0.19039|  -0.08422|\n",
      "|| cheers kent                    ||   0.41872|  -0.49562|  -0.47815|   0.42447|\n",
      "|| looking for                    ||  -0.48307|    0.8482|  -0.37346|  -0.42481|\n",
      "|| comp graphics                  ||  -0.20343|   0.53674|  -0.26674|  -0.18136|\n",
      "|| is there                       ||  -0.24088|   0.55336|  -0.35165|  -0.17129|\n",
      "|| looking for                    ||  -0.48307|    0.8482|  -0.37346|  -0.42481|\n",
      "|| out there                      ||  -0.21577|    0.5851|  -0.35794|  -0.20996|\n",
      "|| in advance                     ||  -0.35536|   0.65336|  -0.33018|  -0.31511|\n",
      "|| and such                       ||  -0.15692|  -0.25872|   0.46337|  -0.16983|\n",
      "|| sci space                      ||  -0.19029|  -0.25517|   0.47133|  -0.16153|\n",
      "|| cheers kent                    ||   0.41872|  -0.49562|  -0.47815|   0.42447|\n",
      "|| the space                      ||  -0.21187|  -0.38697|   0.66826|   -0.2132|\n",
      "|| the moon                       ||  -0.28168|  -0.38578|   0.67683|  -0.18124|\n",
      "|| with you                       ||  -0.15961|   0.04373|  -0.25129|   0.34075|\n",
      "|| does anyone                    ||  -0.29242|   0.35367|    0.0212|   -0.3778|\n",
      "|| the fbi                        ||   -0.0941|  -0.15197|  -0.21673|    0.4181|\n",
      "|| looking for                    ||  -0.48307|    0.8482|  -0.37346|  -0.42481|\n",
      "|| cheers kent                    ||   0.41872|  -0.49562|  -0.47815|   0.42447|\n"
     ]
    }
   ],
   "source": [
    "def P4():\n",
    "    ### STUDENT START ###\n",
    "    #Transform the data to a matrix of word bigram feature vectors. Produce a Logistic Regression model. \n",
    "    \n",
    "    vectorizer = CountVectorizer(ngram_range=(2,2)) \n",
    "    vectorizedtrain = vectorizer.fit_transform(train_data)\n",
    "    lr = Pipeline([('vect', CountVectorizer(ngram_range=(2,2))),\n",
    "                     ('clf', LogisticRegression(C=0.2))\n",
    "                      ])\n",
    "    lr.fit(train_data, train_labels)\n",
    "    weights = lr.named_steps['clf'].coef_\n",
    "    lr_predict = lr.predict(dev_data)\n",
    "    idx_list = map(lambda category: np.argpartition(abs(weights[category]), -5)[-5:], range(4))\n",
    "\n",
    "    idx = [i for j in idx_list for i in j]\n",
    "    feature_names = [vectorizer.get_feature_names()[ind] for ind in idx]\n",
    "    largest_weights = [np.round(weights[category][idx],5) for category in range(4)]\n",
    "\n",
    "    pinrt_template = '|| {0:30} ||{1:10}|{2:10}|{3:10}|{4:10}|' \n",
    "    print ('\\nBigrams\\n')\n",
    "    for row in range(20):\n",
    "        print (pinrt_template.format(feature_names[row], largest_weights[0][row], largest_weights[1][row],\n",
    "                              largest_weights[2][row], largest_weights[3][row]) )\n",
    "    ### STUDENT END ###\n",
    "\n",
    "P4()"
   ]
  },
  {
   "cell_type": "code",
   "execution_count": 7,
   "metadata": {},
   "outputs": [
    {
     "name": "stdout",
     "output_type": "stream",
     "text": [
      "\n",
      "Categories for \"cheers kent\":\n"
     ]
    },
    {
     "data": {
      "text/plain": [
       "['alt.atheism',\n",
       " 'alt.atheism',\n",
       " 'talk.religion.misc',\n",
       " 'talk.religion.misc',\n",
       " 'talk.religion.misc',\n",
       " 'alt.atheism',\n",
       " 'talk.religion.misc',\n",
       " 'talk.religion.misc',\n",
       " 'alt.atheism',\n",
       " 'talk.religion.misc',\n",
       " 'talk.religion.misc',\n",
       " 'talk.religion.misc',\n",
       " 'alt.atheism',\n",
       " 'alt.atheism',\n",
       " 'talk.religion.misc',\n",
       " 'alt.atheism',\n",
       " 'talk.religion.misc',\n",
       " 'alt.atheism',\n",
       " 'talk.religion.misc',\n",
       " 'alt.atheism',\n",
       " 'alt.atheism',\n",
       " 'alt.atheism',\n",
       " 'alt.atheism',\n",
       " 'alt.atheism',\n",
       " 'talk.religion.misc',\n",
       " 'alt.atheism',\n",
       " 'talk.religion.misc',\n",
       " 'talk.religion.misc',\n",
       " 'alt.atheism',\n",
       " 'alt.atheism',\n",
       " 'talk.religion.misc',\n",
       " 'talk.religion.misc',\n",
       " 'alt.atheism',\n",
       " 'talk.religion.misc']"
      ]
     },
     "execution_count": 7,
     "metadata": {},
     "output_type": "execute_result"
    }
   ],
   "source": [
    "vectorizer = CountVectorizer(ngram_range=(2,2)) \n",
    "vectorized_train = vectorizer.fit_transform(train_data)\n",
    "print ('\\nCategories for \"cheers kent\":')\n",
    "categories.sort()\n",
    "[categories[cat_index] for cat_index in train_labels[vectorized_train[:,37174].nonzero()[0]]]"
   ]
  },
  {
   "cell_type": "markdown",
   "metadata": {
    "colab_type": "text",
    "id": "cY67F-tXFsxt"
   },
   "source": [
    "ANSWER: \"cheers kent\" is surprising. But if we take a closer look, it only appears in religion and atheism categories."
   ]
  },
  {
   "cell_type": "markdown",
   "metadata": {
    "colab_type": "text",
    "id": "rVWhSJHHFsxu"
   },
   "source": [
    "### Part 5:\n",
    "\n",
    "To improve generalization, it is common to try preprocessing text in various ways before splitting into words. For example, you could try transforming strings to lower case, replacing sequences of numbers with single tokens, removing various non-letter characters, and shortening long words.\n",
    "\n",
    "Produce a Logistic Regression model (with no preprocessing of text).  Evaluate and show its f1 score and size of the dictionary.\n",
    "\n",
    "Produce an improved Logistic Regression model by preprocessing the text.  Evaluate and show its f1 score and size of the vocabulary.  Try for an improvement in f1 score of at least 0.02.\n",
    "\n",
    "How much did the improved model reduce the vocabulary size?\n",
    "\n",
    "Notes:\n",
    "* Train on the transformed training data.\n",
    "* Evaluate on the transformed development data.\n",
    "* You can use `CountVectorizer(preprocessor=...)` to preprocess strings with your own custom-defined function.\n",
    "* `CountVectorizer` default is to preprocess strings to lower case.\n",
    "* You can use `LogisticRegression(C=0.5, solver=\"liblinear\", multi_class=\"auto\")` to produce a logistic regression model.\n",
    "* You can use `metrics.f1_score(..., average=\"weighted\")` to compute f1 score.\n",
    "* If you're not already familiar with regular expressions for manipulating strings, see https://docs.python.org/2/library/re.html, and re.sub() in particular."
   ]
  },
  {
   "cell_type": "code",
   "execution_count": 8,
   "metadata": {
    "colab": {},
    "colab_type": "code",
    "id": "l7gS3cGpFsxv"
   },
   "outputs": [
    {
     "name": "stdout",
     "output_type": "stream",
     "text": [
      "No preprocessor:\n",
      "\n",
      "Vocabulary size: 33291\n",
      "F1-score: 0.7023340087555402\n",
      "\n",
      "Better preprocessor:\n",
      "\n",
      "Vocabulary size: 27704\n",
      "F1-score: 0.7216598231816684\n",
      "\n",
      "Vocabulary size is decreased by 5587.\n",
      "\n",
      "F1-score has increased by 0.02.\n"
     ]
    }
   ],
   "source": [
    "def better_preprocessor(s):\n",
    "    \"\"\"\n",
    "    A better preprocessor is elimiating digits from strings, elimiating strings with underscores, \n",
    "    and eliminating strings with less than 4 characters\n",
    "    \"\"\"\n",
    "\n",
    "    preprocessed_s = re.sub(r\"\\d+\", \" \", s)\n",
    "\n",
    "    preprocessed_s = re.sub(r\"_+\",\" \",preprocessed_s)\n",
    "    preprocessed_s = re.sub(r\"(.)\\1{3,}\",' ',preprocessed_s)\n",
    "    preprocessed_s = re.sub(r\"\\b[\\w']{1,3}\\b\", \" \",preprocessed_s)\n",
    "    preprocessed_s = re.sub(r\"\\s{3,}\", \" \",preprocessed_s)\n",
    "    return preprocessed_s\n",
    "\n",
    "def no_preprocessor(s):\n",
    "    \"\"\"\n",
    "    Not do any preprocessing\n",
    "    \"\"\"\n",
    "    return s\n",
    "def calc_F1_preprocess(func):\n",
    "   \n",
    "    vectorizer = CountVectorizer(preprocessor=func)\n",
    "    train = vectorizer.fit_transform(train_data)\n",
    "    dev = vectorizer.transform(dev_data)\n",
    "    lr = LogisticRegression()\n",
    "    lr.fit(train, train_labels)\n",
    "    lr_predict = lr.predict(dev)\n",
    "    f1 = f1_score(dev_labels,lr_predict,average='weighted')\n",
    "    print (f\"Vocabulary size: {train.shape[1]}\")\n",
    "    print (f\"F1-score: {f1}\")\n",
    "    return [train.shape[1],f1]\n",
    "    \n",
    "def P5():\n",
    "    print ('No preprocessor:\\n')\n",
    "    res_no_prepro = calc_F1_preprocess(no_preprocessor)\n",
    "    print ('\\nBetter preprocessor:\\n')\n",
    "    res_with_prepro = calc_F1_preprocess(better_preprocessor)\n",
    "    print (f'\\nVocabulary size is decreased by {res_no_prepro[0]-res_with_prepro[0]}.')\n",
    "    print (f'\\nF1-score has increased by {round(res_with_prepro[1]-res_no_prepro[1],2)}.')\n",
    "\n",
    "P5()"
   ]
  },
  {
   "cell_type": "markdown",
   "metadata": {
    "colab_type": "text",
    "id": "Uy-WITbNFsxw"
   },
   "source": [
    "### Part 6:\n",
    "\n",
    "The idea of regularization is to avoid learning very large weights (which are likely to fit the training data, but not generalize well) by adding a penalty to the total size of the learned weights. Logistic regression seeks the set of weights that minimizes errors in the training data AND has a small total size. The default L2 regularization computes this size as the sum of the squared weights (as in Part 3 above). L1 regularization computes this size as the sum of the absolute values of the weights. Whereas L2 regularization makes all the weights relatively small, L1 regularization drives many of the weights to 0, effectively removing unimportant features.\n",
    "\n",
    "For several L1 regularization strengths ...<br/>\n",
    "* Produce a Logistic Regression model using the **L1** regularization strength.  Reduce the vocabulary to only those features that have at least one non-zero weight among the four categories.  Produce a new Logistic Regression model using the reduced vocabulary and **L2** regularization strength of 0.5.  Evaluate and show the L1 regularization strength, vocabulary size, and f1 score associated with the new model.\n",
    "\n",
    "Show a plot of f1 score vs. log vocabulary size.  Each point corresponds to a specific L1 regularization strength used to reduce the vocabulary.\n",
    "\n",
    "How does performance of the models based on reduced vocabularies compare to that of a model based on the full vocabulary?\n",
    "\n",
    "Notes:\n",
    "* Train on the transformed training data.\n",
    "* Evaluate on the transformed development data.\n",
    "* You can use `LogisticRegression(..., penalty=\"l1\")` to produce a logistic regression model using L1 regularization.\n",
    "* You can use `LogisticRegression(..., penalty=\"l2\")` to produce a logistic regression model using L2 regularization.\n",
    "* You can use `LogisticRegression(..., tol=0.015)` to produce a logistic regression model using relaxed gradient descent convergence criteria.  The gradient descent code that trains the logistic regression model sometimes has trouble converging with extreme settings of the C parameter. Relax the convergence criteria by setting tol=.015 (the default is .0001)."
   ]
  },
  {
   "cell_type": "code",
   "execution_count": null,
   "metadata": {
    "colab": {},
    "colab_type": "code",
    "id": "l6ho31SrFsxx"
   },
   "outputs": [],
   "source": [
    "def get_accuracy(dev_data,dev_labels, C_val,tol_val):\n",
    "    \n",
    "    model = LogisticRegression(penalty='l1',C=C_val,tol=tol_val)\n",
    "    dev_features = CountVectorizer().transform(dev_data)\n",
    "    model = model.fit(dev_features,dev_labels)\n",
    "    model_predicted = self.fit.predict(dev_features)\n",
    "    accuracy = float(np.sum(model_predicted == dev_labels))/len(dev_labels)\n",
    "    return accuracy\n",
    "\n",
    "def get_nonzero_coef(coefs):\n",
    "        def get_nonzero_coef_extract(coefs):\n",
    "            return coefs.nonzero()[0]\n",
    "        nonzero_features = map(lambda x: get_nonzero_coef_extract(x),coefs)\n",
    "        nonzero_list = map(lambda x: nonzero_features[x].tolist(), range(len(coefs)))\n",
    "        nonzero_flat = [i for sublist in nonzero_list for i in sublist]\n",
    "    return nonzero_flat\n",
    "    \n",
    "def get_vocabulary(train_data,train_labels, C_val,tol_val):\n",
    "    model = LogisticRegression(penalty='l1',C=C_val,tol=tol_val)\n",
    "    train_features = CountVectorizer().transform(train_data)\n",
    "    model = model.fit(train_features,train_labels)\n",
    "    nonzero_flat = get_nonzero_coef(model.coef_)\n",
    "    nonzero_list = np.unique(nonzero_flat)\n",
    "    nonzero_vocabulary = [CountVectorizer().get_feature_names()[index] for index in nonzero_list]\n",
    "    return nonzero_vocabulary\n",
    "\n",
    "def nonzero_coef_num(train_data,train_labels, C_val,tol_val):\n",
    "    model = LogisticRegression(penalty='l1',C=C_val,tol=tol_val)\n",
    "    train_features = CountVectorizer().transform(train_data)\n",
    "    model = model.fit(train_features,train_labels)\n",
    "    coef_num = np.sum(map(lambda x: len(get_nonzero_coef(x)),model.coef_))\n",
    "    return coef_num\n",
    "        \n",
    "def P6():\n",
    "    \n",
    "    C_vals = [1e-3,0.1,0.5,1,2,5,10,50,100,1000]\n",
    "    l1_vocab_size = []\n",
    "    l1_accuracy = []\n",
    "\n",
    "    for row in range(len(C_vals)+1):\n",
    "        print(train_data)\n",
    "        \n",
    "        new_vocab = get_vocabulary(train_data,train_labels, C_vals[row-1],0.01)\n",
    "        \n",
    "        l1_vocab_size.append(l1.nonzero_coef_num)\n",
    "        l1_accuracy.append(get_accuracy(dev_data,dev_labels,C_vals[row-1],0.01))\n",
    "        \n",
    "    # -------------------------- plot --------------------------------- #\n",
    "    plt.plot(np.log(l1_vocab_size), l1_accuracy)\n",
    "    plt.ylabel('Accuracy') \n",
    "    plt.xlabel('L2 vocabulary size (log)')\n",
    "    plt.title('L2 vocabulary size against accuracy')  \n",
    "    plt.show() \n",
    "\n",
    "P6()"
   ]
  },
  {
   "cell_type": "markdown",
   "metadata": {
    "colab_type": "text",
    "id": "bZmIPwExFsx1"
   },
   "source": [
    "ANSWER:"
   ]
  },
  {
   "cell_type": "markdown",
   "metadata": {
    "colab_type": "text",
    "id": "QmrHf8AMFsxz"
   },
   "source": [
    "### Part 7:\n",
    "\n",
    "How is `TfidfVectorizer` different than `CountVectorizer`?\n",
    "\n",
    "Produce a Logistic Regression model based on data represented in tf-idf form, with L2 regularization strength of 100.  Evaluate and show the f1 score.  How is `TfidfVectorizer` different than `CountVectorizer`?\n",
    "\n",
    "Show the 3 documents with highest R ratio, where ...<br/>\n",
    "$R\\,ratio = maximum\\,predicted\\,probability \\div predicted\\,probability\\,of\\,correct\\,label$\n",
    "\n",
    "Explain what the R ratio describes.  What kinds of mistakes is the model making? Suggest a way to address one particular issue that you see.\n",
    "\n",
    "Note:\n",
    "* Train on the transformed training data.\n",
    "* Evaluate on the transformed development data.\n",
    "* You can use `TfidfVectorizer` and its `.fit_transform` method to transform data to tf-idf form.\n",
    "* You can use `LogisticRegression(C=100, solver=\"liblinear\", multi_class=\"auto\")` to produce a logistic regression model.\n",
    "* You can use `LogisticRegression`'s `.predict_proba` method to access predicted probabilities."
   ]
  },
  {
   "cell_type": "code",
   "execution_count": 11,
   "metadata": {
    "colab": {},
    "colab_type": "code",
    "id": "8vwU_9t2Fsx0"
   },
   "outputs": [
    {
     "name": "stdout",
     "output_type": "stream",
     "text": [
      "Error rank is 1\n",
      "\n",
      "R-ratio is 929.3580170576168\n",
      "\n",
      "Observed category is talk.religion.misc\n",
      "\n",
      "Predicted category is comp.graphics\n",
      "\n",
      "Error rank is 2\n",
      "\n",
      "R-ratio is 325.00408025526406\n",
      "\n",
      "Observed category is talk.religion.misc\n",
      "\n",
      "Predicted category is comp.graphics\n",
      "\n",
      "Error rank is 3\n",
      "\n",
      "R-ratio is 287.306306820337\n",
      "\n",
      "Observed category is alt.atheism\n",
      "\n",
      "Predicted category is talk.religion.misc\n",
      "\n"
     ]
    }
   ],
   "source": [
    "def cacl_R(probability,correct_label):\n",
    "    return float(np.max(probability))/probability[correct_label]\n",
    "\n",
    "def P7():\n",
    "    vectorizer = TfidfVectorizer()\n",
    "    train_features = vectorizer.fit_transform(train_data)\n",
    "    dev_features = vectorizer.transform(dev_data)\n",
    "    lr = LogisticRegression(C=100)\n",
    "    lr.fit(train_features,train_labels)\n",
    "    lr_predict_prob = lr.predict_proba(dev_features)\n",
    "    pred_labels = lr.predict(dev_features)\n",
    "    r = list(map(cacl_R,lr_predict_prob,dev_labels)       )\n",
    "    index = np.argpartition(r, -3)[-3:]\n",
    "    categories.sort()\n",
    "    for rank in np.arange(len(index)-1,-1,-1):\n",
    "        print (f'Error rank is {-rank+len(index+1)}\\n')\n",
    "        print (f'R-ratio is {r[index[rank]]}\\n')\n",
    "        print (f'Observed category is {categories[dev_labels[index[rank]]]}\\n')\n",
    "        print (f'Predicted category is {categories[pred_labels[index[rank]]]}\\n')\n",
    "P7()"
   ]
  },
  {
   "cell_type": "markdown",
   "metadata": {
    "colab_type": "text",
    "id": "bZmIPwExFsx1"
   },
   "source": [
    "ANSWER: The only difference is that the TfidfVectorizer() returns floats while the CountVectorizer() returns ints. And that’s to be expected, TfidfVectorizer() assigns a score while CountVectorizer() counts. tf-idf is not only a simple count of the expressions in a document but it also takes into the frequency of the occurrence of the expression in the corpus into account.\n",
    "\n",
    "R ratio describe the relationship between 𝑚𝑎𝑥𝑖𝑚𝑢𝑚 𝑝𝑟𝑒𝑑𝑖𝑐𝑡𝑒𝑑 𝑝𝑟𝑜𝑏𝑎𝑏𝑖𝑙𝑖𝑡𝑦 and 𝑝𝑟𝑒𝑑𝑖𝑐𝑡𝑒𝑑 𝑝𝑟𝑜𝑏𝑎𝑏𝑖𝑙𝑖𝑡𝑦 𝑜𝑓 𝑐𝑜𝑟𝑟𝑒𝑐𝑡𝑙𝑎𝑏𝑒𝑙. The higher the R ratio is, the less accurate the model is. \n",
    "\n",
    "The mistake the model is making is that it incorrectly classifies some categories as comp.graphics while they are suppoed to belong to other category.\n",
    "\n",
    "A solution could be - if some technical features are good predictors of computer graphics but are used often in other categories, they might be removed from the model to increase the accuracy"
   ]
  },
  {
   "cell_type": "markdown",
   "metadata": {
    "colab_type": "text",
    "id": "VmsDxtzoFsx1"
   },
   "source": [
    "### Part 8 EXTRA CREDIT:\n",
    "\n",
    "Produce a Logistic Regression model to implement your suggestion from Part 7."
   ]
  },
  {
   "cell_type": "code",
   "execution_count": null,
   "metadata": {
    "colab": {},
    "colab_type": "code",
    "id": "ZMaqe8c5Fsx2"
   },
   "outputs": [],
   "source": []
  }
 ],
 "metadata": {
  "colab": {
   "collapsed_sections": [],
   "name": "firstname_lastname_p2.ipynb",
   "private_outputs": true,
   "provenance": [
    {
     "file_id": "https://github.com/MIDS-W207/Master/blob/master/Projects/firstname_lastname_p2.ipynb",
     "timestamp": 1559779272103
    }
   ],
   "version": "0.3.2"
  },
  "kernelspec": {
   "display_name": "Python 3",
   "language": "python",
   "name": "python3"
  },
  "language_info": {
   "codemirror_mode": {
    "name": "ipython",
    "version": 3
   },
   "file_extension": ".py",
   "mimetype": "text/x-python",
   "name": "python",
   "nbconvert_exporter": "python",
   "pygments_lexer": "ipython3",
   "version": "3.7.0"
  },
  "toc": {
   "base_numbering": 1,
   "nav_menu": {},
   "number_sections": false,
   "sideBar": true,
   "skip_h1_title": true,
   "title_cell": "Table of Contents",
   "title_sidebar": "Contents",
   "toc_cell": false,
   "toc_position": {},
   "toc_section_display": true,
   "toc_window_display": false
  }
 },
 "nbformat": 4,
 "nbformat_minor": 1
}
