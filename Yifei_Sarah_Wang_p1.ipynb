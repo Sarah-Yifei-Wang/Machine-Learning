{
 "cells": [
  {
   "cell_type": "markdown",
   "metadata": {
    "colab_type": "text",
    "id": "z6UHmLYVhWAN"
   },
   "source": [
    "# Project 1: Digit Classification with KNN and Naive Bayes"
   ]
  },
  {
   "cell_type": "markdown",
   "metadata": {
    "colab_type": "text",
    "id": "03M_JSg3hWAO"
   },
   "source": [
    "In this project, you'll implement your own image recognition system for classifying digits. Read through the code and the instructions carefully and add your own code where indicated. Each problem can be addressed succinctly with the included packages -- please don't add any more. Grading will be based on writing clean, commented code, along with a few short answers.\n",
    "\n",
    "As always, you're welcome to work on the project in groups and discuss ideas on the course wall, but <b> please prepare your own write-up (with your own code). </b>\n",
    "\n",
    "If you're interested, check out these links related to digit recognition:\n",
    "\n",
    "* Yann Lecun's MNIST benchmarks: http://yann.lecun.com/exdb/mnist/\n",
    "* Stanford Streetview research and data: http://ufldl.stanford.edu/housenumbers/\n",
    "\n",
    "Finally, if you'd like to get started with Tensorflow, you can read through this tutorial: https://www.tensorflow.org/tutorials/keras/basic_classification. It uses a dataset called \"fashion_mnist\", which is identical in structure to the original digit mnist, but uses images of clothing rather than images of digits. The number of training examples and number of labels is the same. In fact, you can simply replace the code that loads \"fashion_mnist\" with \"mnist\" and everything should work fine."
   ]
  },
  {
   "cell_type": "code",
   "execution_count": 1,
   "metadata": {
    "colab": {},
    "colab_type": "code",
    "id": "iJ9ayCvyhWAP"
   },
   "outputs": [
    {
     "name": "stderr",
     "output_type": "stream",
     "text": [
      "\n",
      "Bad key \"text.kerning_factor\" on line 4 in\n",
      "C:\\Users\\sarahwang\\anaconda3\\lib\\site-packages\\matplotlib\\mpl-data\\stylelib\\_classic_test_patch.mplstyle.\n",
      "You probably need to get an updated matplotlibrc file from\n",
      "http://github.com/matplotlib/matplotlib/blob/master/matplotlibrc.template\n",
      "or from the matplotlib source distribution\n"
     ]
    }
   ],
   "source": [
    "# This tells matplotlib not to try opening a new window for each plot.\n",
    "%matplotlib inline\n",
    "\n",
    "# Import a bunch of libraries.\n",
    "import time\n",
    "import numpy as np\n",
    "import matplotlib.pyplot as plt\n",
    "from matplotlib.ticker import MultipleLocator\n",
    "from sklearn.pipeline import Pipeline\n",
    "from sklearn.datasets import fetch_openml\n",
    "from sklearn.neighbors import KNeighborsClassifier\n",
    "from sklearn.metrics import confusion_matrix\n",
    "from sklearn.linear_model import LinearRegression\n",
    "from sklearn.naive_bayes import BernoulliNB\n",
    "from sklearn.naive_bayes import MultinomialNB\n",
    "from sklearn.naive_bayes import GaussianNB\n",
    "from sklearn.model_selection import GridSearchCV\n",
    "from sklearn.metrics import classification_report\n",
    "from scipy.ndimage import gaussian_filter\n",
    "from functools import reduce\n",
    "\n",
    "# Set the randomizer seed so results are the same each time.\n",
    "np.random.seed(0)"
   ]
  },
  {
   "cell_type": "code",
   "execution_count": 2,
   "metadata": {},
   "outputs": [
    {
     "data": {
      "text/plain": [
       "'0.20.1'"
      ]
     },
     "execution_count": 2,
     "metadata": {},
     "output_type": "execute_result"
    }
   ],
   "source": [
    "import sklearn\n",
    "sklearn.__version__"
   ]
  },
  {
   "cell_type": "markdown",
   "metadata": {
    "colab_type": "text",
    "id": "sO1t0ypThWAR"
   },
   "source": [
    "Load the data. Notice that the data gets partitioned into training, development, and test sets. Also, a small subset of the training data called mini_train_data and mini_train_labels gets defined, which you should use in all the experiments below, unless otherwise noted."
   ]
  },
  {
   "cell_type": "code",
   "execution_count": 3,
   "metadata": {
    "colab": {},
    "colab_type": "code",
    "id": "3yK9DacchWAS"
   },
   "outputs": [
    {
     "name": "stdout",
     "output_type": "stream",
     "text": [
      "data shape:  (70000, 784)\n",
      "label shape: (70000,)\n"
     ]
    }
   ],
   "source": [
    "# Load the digit data from https://www.openml.org/d/554 or from default local location '~/scikit_learn_data/...'\n",
    "X, Y = fetch_openml(name='mnist_784', return_X_y=True, cache=False)\n",
    "\n",
    "\n",
    "# Rescale grayscale values to [0,1].\n",
    "X = X / 255.0\n",
    "\n",
    "# Shuffle the input: create a random permutation of the integers between 0 and the number of data points and apply this\n",
    "# permutation to X and Y.\n",
    "# NOTE: Each time you run this cell, you'll re-shuffle the data, resulting in a different ordering.\n",
    "shuffle = np.random.permutation(np.arange(X.shape[0]))\n",
    "X, Y = X[shuffle], Y[shuffle]\n",
    "\n",
    "print('data shape: ', X.shape)\n",
    "print('label shape:', Y.shape)\n",
    "\n",
    "# Set some variables to hold test, dev, and training data.\n",
    "test_data, test_labels = X[61000:], Y[61000:]\n",
    "dev_data, dev_labels = X[60000:61000], Y[60000:61000]\n",
    "train_data, train_labels = X[:60000], Y[:60000]\n",
    "mini_train_data, mini_train_labels = X[:1000], Y[:1000]"
   ]
  },
  {
   "cell_type": "code",
   "execution_count": 4,
   "metadata": {},
   "outputs": [
    {
     "data": {
      "text/plain": [
       "array([[0., 0., 0., ..., 0., 0., 0.],\n",
       "       [0., 0., 0., ..., 0., 0., 0.],\n",
       "       [0., 0., 0., ..., 0., 0., 0.],\n",
       "       ...,\n",
       "       [0., 0., 0., ..., 0., 0., 0.],\n",
       "       [0., 0., 0., ..., 0., 0., 0.],\n",
       "       [0., 0., 0., ..., 0., 0., 0.]])"
      ]
     },
     "execution_count": 4,
     "metadata": {},
     "output_type": "execute_result"
    }
   ],
   "source": [
    "mini_train_data"
   ]
  },
  {
   "cell_type": "markdown",
   "metadata": {
    "colab_type": "text",
    "id": "atc2JpWKhWAV"
   },
   "source": [
    "### Part 1:\n",
    "\n",
    "Show a 10x10 grid that visualizes 10 examples of each digit.\n",
    "\n",
    "Notes:\n",
    "* You can use `plt.rc()` for setting the colormap, for example to black and white.\n",
    "* You can use `plt.subplot()` for creating subplots.\n",
    "* You can use `plt.imshow()` for rendering a matrix.\n",
    "* You can use `np.array.reshape()` for reshaping a 1D feature vector into a 2D matrix (for rendering)."
   ]
  },
  {
   "cell_type": "code",
   "execution_count": 5,
   "metadata": {
    "colab": {},
    "colab_type": "code",
    "id": "436UeH7JhWAW"
   },
   "outputs": [
    {
     "data": {
      "image/png": "[encoded data removed]",
      "text/plain": [
       "<Figure size 432x288 with 100 Axes>"
      ]
     },
     "metadata": {
      "needs_background": "light"
     },
     "output_type": "display_data"
    }
   ],
   "source": [
    "#def P1(num_examples=10):\n",
    "\n",
    "### STUDENT START ###\n",
    "\n",
    "def calc_digit_indices(digit,num_examples):\n",
    "    \"\"\"\n",
    "    Generate a random sample of size num_examples without replacement\n",
    "    \n",
    "    Args:\n",
    "        digit: the digit that needs to visualized, from 0 to 9\n",
    "        num_examples: default as 10\n",
    "    Return:\n",
    "        An array of length of num_examples that represents indices of given digit in mini_train_labels\n",
    "        \n",
    "    \"\"\"\n",
    "    return np.random.choice(a=np.flatnonzero(mini_train_labels==digit),\n",
    "                         size=num_examples,replace=False)\n",
    "    \n",
    "def P1(num_examples=10):\n",
    "    \"\"\"\n",
    "    Plot 10x10 grid that visualizes 10 examples of each digit\n",
    "    \n",
    "    Args:\n",
    "        num_examples: the number of digits to be plotted\n",
    "    \n",
    "    Returns:\n",
    "        A 10x10 grid which visualizes 10 examples of each digit.\n",
    "    \"\"\"\n",
    "    \n",
    "    \n",
    "    digit_index={int(digit):calc_digit_indices(digit,num_examples)\n",
    "                 for digit in np.unique(mini_train_labels)}\n",
    "\n",
    "    figure, axes = plt.subplots(nrows=len(digit_index.keys()),\n",
    "                             ncols=num_examples)\n",
    "\n",
    "    for key in digit_index.keys():\n",
    "        for num in range(num_examples):\n",
    "            idx = digit_index[key][num]\n",
    "            data = mini_train_data[idx].reshape(28,28)\n",
    "            axes[key][num].imshow(data,cmap='Greys')\n",
    "            axes[key][num].axis('off') \n",
    "    plt.show()\n",
    "    \n",
    "P1(10) \n",
    "\n",
    "\n",
    "### STUDENT END ###\n",
    "\n",
    "#P1(10)"
   ]
  },
  {
   "cell_type": "markdown",
   "metadata": {
    "colab_type": "text",
    "id": "EMQAHr7QhWAX"
   },
   "source": [
    "### Part 2:\n",
    "\n",
    "Produce k-Nearest Neighbors models with k $\\in$ [1,3,5,7,9].  Evaluate and show the accuracy of each model. For the 1-Nearest Neighbor model, additionally show the precision, recall, and F1 for each label. Which digit is the most difficult for the 1-Nearest Neighbor model to recognize?\n",
    "\n",
    "Notes:\n",
    "* Train on the mini train set.\n",
    "* Evaluate performance on the dev set.\n",
    "* You can use `KNeighborsClassifier` to produce a k-nearest neighbor model.\n",
    "* You can use `classification_report` to get precision, recall, and F1 results."
   ]
  },
  {
   "cell_type": "code",
   "execution_count": 6,
   "metadata": {
    "colab": {},
    "colab_type": "code",
    "id": "-it5pn8-hWAY"
   },
   "outputs": [
    {
     "name": "stdout",
     "output_type": "stream",
     "text": [
      "Classification report for KNeighborsClassifier(algorithm='auto', leaf_size=30, metric='minkowski',\n",
      "           metric_params=None, n_jobs=None, n_neighbors=1, p=2,\n",
      "           weights='uniform'):\n",
      "               precision    recall  f1-score   support\n",
      "\n",
      "           0       0.95      0.95      0.95       106\n",
      "           1       0.89      0.98      0.93       118\n",
      "           2       0.90      0.79      0.84       106\n",
      "           3       0.93      0.87      0.90        97\n",
      "           4       0.91      0.85      0.88        92\n",
      "           5       0.86      0.88      0.87        88\n",
      "           6       0.92      0.92      0.92       102\n",
      "           7       0.85      0.94      0.89       102\n",
      "           8       0.83      0.77      0.80        94\n",
      "           9       0.80      0.86      0.83        95\n",
      "\n",
      "   micro avg       0.88      0.88      0.88      1000\n",
      "   macro avg       0.88      0.88      0.88      1000\n",
      "weighted avg       0.89      0.88      0.88      1000\n",
      "\n",
      "Classification report for KNeighborsClassifier(algorithm='auto', leaf_size=30, metric='minkowski',\n",
      "           metric_params=None, n_jobs=None, n_neighbors=3, p=2,\n",
      "           weights='uniform'):\n",
      "               precision    recall  f1-score   support\n",
      "\n",
      "           0       0.94      0.96      0.95       106\n",
      "           1       0.82      0.98      0.90       118\n",
      "           2       0.90      0.78      0.84       106\n",
      "           3       0.89      0.89      0.89        97\n",
      "           4       0.84      0.88      0.86        92\n",
      "           5       0.94      0.84      0.89        88\n",
      "           6       0.91      0.91      0.91       102\n",
      "           7       0.85      0.94      0.89       102\n",
      "           8       0.85      0.74      0.80        94\n",
      "           9       0.84      0.79      0.82        95\n",
      "\n",
      "   micro avg       0.88      0.88      0.88      1000\n",
      "   macro avg       0.88      0.87      0.87      1000\n",
      "weighted avg       0.88      0.88      0.87      1000\n",
      "\n",
      "Classification report for KNeighborsClassifier(algorithm='auto', leaf_size=30, metric='minkowski',\n",
      "           metric_params=None, n_jobs=None, n_neighbors=5, p=2,\n",
      "           weights='uniform'):\n",
      "               precision    recall  f1-score   support\n",
      "\n",
      "           0       0.95      0.95      0.95       106\n",
      "           1       0.81      0.99      0.89       118\n",
      "           2       0.96      0.74      0.83       106\n",
      "           3       0.87      0.91      0.89        97\n",
      "           4       0.89      0.88      0.89        92\n",
      "           5       0.96      0.85      0.90        88\n",
      "           6       0.91      0.91      0.91       102\n",
      "           7       0.80      0.95      0.87       102\n",
      "           8       0.84      0.77      0.80        94\n",
      "           9       0.89      0.84      0.86        95\n",
      "\n",
      "   micro avg       0.88      0.88      0.88      1000\n",
      "   macro avg       0.89      0.88      0.88      1000\n",
      "weighted avg       0.89      0.88      0.88      1000\n",
      "\n",
      "Classification report for KNeighborsClassifier(algorithm='auto', leaf_size=30, metric='minkowski',\n",
      "           metric_params=None, n_jobs=None, n_neighbors=7, p=2,\n",
      "           weights='uniform'):\n",
      "               precision    recall  f1-score   support\n",
      "\n",
      "           0       0.96      0.96      0.96       106\n",
      "           1       0.80      0.99      0.89       118\n",
      "           2       0.96      0.72      0.82       106\n",
      "           3       0.86      0.91      0.88        97\n",
      "           4       0.91      0.87      0.89        92\n",
      "           5       0.96      0.84      0.90        88\n",
      "           6       0.93      0.92      0.93       102\n",
      "           7       0.80      0.94      0.86       102\n",
      "           8       0.83      0.76      0.79        94\n",
      "           9       0.83      0.83      0.83        95\n",
      "\n",
      "   micro avg       0.88      0.88      0.88      1000\n",
      "   macro avg       0.88      0.87      0.88      1000\n",
      "weighted avg       0.88      0.88      0.88      1000\n",
      "\n",
      "Classification report for KNeighborsClassifier(algorithm='auto', leaf_size=30, metric='minkowski',\n",
      "           metric_params=None, n_jobs=None, n_neighbors=9, p=2,\n",
      "           weights='uniform'):\n",
      "               precision    recall  f1-score   support\n",
      "\n",
      "           0       0.96      0.95      0.96       106\n",
      "           1       0.78      0.99      0.87       118\n",
      "           2       0.97      0.69      0.81       106\n",
      "           3       0.87      0.91      0.89        97\n",
      "           4       0.92      0.87      0.89        92\n",
      "           5       0.96      0.85      0.90        88\n",
      "           6       0.91      0.92      0.92       102\n",
      "           7       0.80      0.94      0.86       102\n",
      "           8       0.82      0.78      0.80        94\n",
      "           9       0.85      0.82      0.83        95\n",
      "\n",
      "   micro avg       0.88      0.88      0.88      1000\n",
      "   macro avg       0.88      0.87      0.87      1000\n",
      "weighted avg       0.88      0.88      0.87      1000\n",
      "\n"
     ]
    }
   ],
   "source": [
    "#def P2(k_values):\n",
    "\n",
    "### STUDENT START ###\n",
    "def P2(k_values):\n",
    "    \"\"\"\n",
    "    Evaluates the accuracy of different k in K-Nearest-Neighbor model.\n",
    "    \n",
    "    Args:   \n",
    "       k_values: an array of possible k values\n",
    "    \n",
    "    Returns:\n",
    "       Classification reports for given k values\n",
    "    \"\"\"\n",
    "\n",
    "    for k_value in k_values:\n",
    "        neighbors = KNeighborsClassifier(n_neighbors=k_value)\n",
    "        neighbors.fit(mini_train_data,mini_train_labels)\n",
    "        pred_labels = neighbors.predict(dev_data)\n",
    "        report = classification_report(dev_labels,pred_labels)\n",
    "        print (f'Classification report for {neighbors}:\\n {report}')\n",
    "\n",
    "    \n",
    "k_values = [1, 3, 5, 7, 9]\n",
    "P2(k_values)\n",
    "### STUDENT END ###\n",
    "\n",
    "#k_values = [1, 3, 5, 7, 9]\n",
    "#P2(k_values)"
   ]
  },
  {
   "cell_type": "markdown",
   "metadata": {
    "colab_type": "text",
    "id": "tZc9gzn5hWAZ"
   },
   "source": [
    "ANSWER: For the 1-Nearest Neighbor model, based on F1 score, digit 8 with lowest F1 score isthe most difficult to recognize"
   ]
  },
  {
   "cell_type": "markdown",
   "metadata": {
    "colab_type": "text",
    "id": "7b6YEAzzhWAa"
   },
   "source": [
    "### Part 3:\n",
    "\n",
    "Produce 1-Nearest Neighbor models using training data of various sizes.  Evaluate and show the performance of each model.  Additionally, show the time needed to measure the performance of each model.\n",
    "\n",
    "Notes:\n",
    "* Train on subsets of the train set.  For each subset, take just the first part of the train set without re-ordering.\n",
    "* Evaluate on the dev set.\n",
    "* You can use `KNeighborsClassifier` to produce a k-nearest neighbor model.\n",
    "* You can use `time.time()` to measure elapsed time of operations."
   ]
  },
  {
   "cell_type": "code",
   "execution_count": 7,
   "metadata": {
    "colab": {},
    "colab_type": "code",
    "id": "gEpNzDEjhWAa"
   },
   "outputs": [
    {
     "data": {
      "image/png": "[encoded data removed]",
      "text/plain": [
       "<Figure size 432x288 with 2 Axes>"
      ]
     },
     "metadata": {
      "needs_background": "light"
     },
     "output_type": "display_data"
    },
    {
     "name": "stdout",
     "output_type": "stream",
     "text": [
      "{100: {'accuracy': 0.688, 'time': 0.14899992942810059}, 200: {'accuracy': 0.78, 'time': 0.2950000762939453}, 400: {'accuracy': 0.837, 'time': 0.5360000133514404}, 800: {'accuracy': 0.869, 'time': 1.1389997005462646}, 1600: {'accuracy': 0.895, 'time': 2.1560001373291016}, 3200: {'accuracy': 0.925, 'time': 4.447999954223633}, 6400: {'accuracy': 0.939, 'time': 9.479999780654907}, 12800: {'accuracy': 0.953, 'time': 19.162999868392944}, 25600: {'accuracy': 0.958, 'time': 34.91000008583069}}\n",
      "[0.688, 0.78, 0.837, 0.869, 0.895, 0.925, 0.939, 0.953, 0.958]\n"
     ]
    }
   ],
   "source": [
    "#def P3(train_sizes, accuracies):\n",
    "\n",
    "### STUDENT START ###\n",
    "\n",
    "def get_accuracy(train_size):\n",
    "        \"\"\"\n",
    "        Evaluate accuracy and time for KNN-1 model with various size\n",
    "        \n",
    "        Args:\n",
    "            train_size: traing data set\n",
    "        \n",
    "        Return:\n",
    "            a dictionary showing accuracy and time needed for model training for given size\n",
    "        \"\"\"\n",
    "        \n",
    "        neighbors = KNeighborsClassifier(n_neighbors=1)\n",
    "        index = np.random.choice(range(len(train_labels)), train_size)\n",
    "        neighbors.fit(train_data[index],\n",
    "                      train_labels[index])\n",
    "        start_time = time.time()\n",
    "        pred_labels = neighbors.predict(dev_data)\n",
    "        time_total = time.time()-start_time\n",
    "        correct_prediction = sum(pred_labels==dev_labels)\n",
    "        accuracy = float(correct_prediction)/len(dev_labels)\n",
    "        return {\n",
    "            'accuracy': accuracy,\n",
    "            'time': time_total\n",
    "        }\n",
    "    \n",
    "def P3(train_sizes,accuracies):\n",
    "    \"\"\"\n",
    "    Evaluate accuracy and time for KNN-1 model with various size\n",
    "    \n",
    "    Args:\n",
    "        train_size: traing data set\n",
    "        accuracies: default as an empty array\n",
    "        \n",
    "    Return:\n",
    "        A dictionary of sizes as keys, and accuracies and time needed as values\n",
    "    \"\"\"\n",
    "    \n",
    "    accuracy_result = {size:get_accuracy(size) for size in train_sizes}\n",
    "    fig, axis1 = plt.subplots()\n",
    "    y_accuracy = sorted([value['accuracy'] for value in accuracy_result.values()])\n",
    "    axis1.plot(train_sizes, y_accuracy, 'b-')\n",
    "    axis1.set_xlabel('train_sizes')\n",
    "    axis1.set_ylabel('accuracy', color='g')\n",
    "    for label in axis1.get_yticklabels():\n",
    "        label.set_color('b')\n",
    "    axis2 = axis1.twinx()\n",
    "    y_time = sorted([value['time'] for value in accuracy_result.values()])\n",
    "    axis2.plot(train_sizes, y_time, 'r-')\n",
    "    axis2.set_ylabel('time', color='r')\n",
    "    for label in axis2.get_yticklabels():\n",
    "        label.set_color('r')\n",
    "    plt.show()\n",
    "    return accuracy_result\n",
    "    \n",
    "train_sizes = [100, 200, 400, 800, 1600, 3200, 6400, 12800, 25600]\n",
    "accuracies = []\n",
    "P3_result = P3(train_sizes, accuracies)\n",
    "\n",
    "accuracies = sorted([value['accuracy'] for value in P3_result.values()])\n",
    "print(P3_result)\n",
    "print(accuracies)\n",
    "\n",
    "\n",
    "### STUDENT END ###\n",
    "\n",
    "#train_sizes = [100, 200, 400, 800, 1600, 3200, 6400, 12800, 25600]\n",
    "#accuracies = []\n",
    "#P3(train_sizes, accuracies)"
   ]
  },
  {
   "cell_type": "markdown",
   "metadata": {
    "colab_type": "text",
    "id": "B56lVsKNhWAc"
   },
   "source": [
    "### Part 4:\n",
    "\n",
    "Produce a linear regression model that predicts accuracy of a 1-Nearest Neighbor model given training set size. Show $R^2$ of the linear regression model.  Show the accuracies predicted for training set sizes 60000, 120000, and 1000000.  Show a lineplot of actual accuracies and predicted accuracies vs. training set size over the range of training set sizes in the training data.  What's wrong with using linear regression here?\n",
    "\n",
    "Apply a transformation to the predictor features and a transformation to the outcome that make the predictions more reasonable.  Show $R^2$ of the improved linear regression model.  Show the accuracies predicted for training set sizes 60000, 120000, and 1000000.  Show a lineplot of actual accuracies and predicted accuracies vs. training set size over the range of training set sizes in the training data - be sure to display accuracies and training set sizes in appropriate units.\n",
    "\n",
    "Notes:\n",
    "* Train the linear regression models on all of the (transformed) accuracies estimated in Problem 3.\n",
    "* Evaluate the linear regression models on all of the (transformed) accuracies estimated in Problem 3.\n",
    "* You can use `LinearRegression` to produce a linear regression model.\n",
    "* Remember that the sklearn `fit()` functions take an input matrix X and output vector Y. So, each input example in X is a vector, even if it contains only a single value.\n",
    "* Hint re: predictor feature transform: Accuracy increases with training set size logarithmically.\n",
    "* Hint re: outcome transform: When y is a number in range 0 to 1, then odds(y)=y/(1-y) is a number in range 0 to infinity."
   ]
  },
  {
   "cell_type": "code",
   "execution_count": 8,
   "metadata": {
    "colab": {},
    "colab_type": "code",
    "id": "4xE_qIJghWAc"
   },
   "outputs": [
    {
     "data": {
      "image/png": "[encoded data removed]",
      "text/plain": [
       "<Figure size 432x288 with 2 Axes>"
      ]
     },
     "metadata": {
      "needs_background": "light"
     },
     "output_type": "display_data"
    },
    {
     "name": "stdout",
     "output_type": "stream",
     "text": [
      "Accuracy for training size [60000, 120000, 1000000] is [0.9657689  0.9661105  0.97112061]\n",
      "\n"
     ]
    },
    {
     "data": {
      "text/plain": [
       "array([0.9657689 , 0.9661105 , 0.97112061])"
      ]
     },
     "execution_count": 8,
     "metadata": {},
     "output_type": "execute_result"
    }
   ],
   "source": [
    "#def P4():\n",
    "\n",
    "### STUDENT START ###\n",
    "def P4(training_sizes):\n",
    "    \"\"\"\n",
    "    Evaluate accuracy  for KNN-1 model with various size\n",
    "    \n",
    "    Args:\n",
    "        training_sizes: traing data set\n",
    "        \n",
    "    Return:\n",
    "        Model accuracy\n",
    "    \"\"\"\n",
    "    size = P3(training_sizes,[])\n",
    "    accuracy = sorted([value['accuracy'] for value in size.values()])\n",
    "    accuracy_array = np.array(accuracy)\n",
    "    training_size_matrix = np.array(training_sizes).reshape((len(training_sizes),1))\n",
    "    linear_regression = LinearRegression(fit_intercept=True)\n",
    "    linear_regression.fit(training_size_matrix,accuracy_array) \n",
    "    prediction = linear_regression.predict(np.array(training_sizes).reshape(3,1))\n",
    "    print (f'Accuracy for training size {training_sizes} is {prediction}\\n')\n",
    "    return prediction\n",
    "\n",
    "training_sizes = [60000, 120000, 1000000]\n",
    "\n",
    "P4(training_sizes)\n",
    "\n",
    "### STUDENT END ###\n",
    "\n",
    "#P4()"
   ]
  },
  {
   "cell_type": "code",
   "execution_count": 9,
   "metadata": {},
   "outputs": [
    {
     "data": {
      "image/png": "[encoded data removed]",
      "text/plain": [
       "<Figure size 432x288 with 2 Axes>"
      ]
     },
     "metadata": {
      "needs_background": "light"
     },
     "output_type": "display_data"
    },
    {
     "name": "stdout",
     "output_type": "stream",
     "text": [
      "Accuracy for training size [60000, 120000, 1000000] is [0.96833028 0.96851083 0.97115888]\n",
      "\n"
     ]
    },
    {
     "data": {
      "text/plain": [
       "array([0.96833028, 0.96851083, 0.97115888])"
      ]
     },
     "execution_count": 9,
     "metadata": {},
     "output_type": "execute_result"
    }
   ],
   "source": [
    "def P4_with_transformation(training_sizes):\n",
    "    \"\"\"\n",
    "    Evaluate accuracy  for KNN-1 model with various size with arcsine-square root transform\n",
    "    \n",
    "    Args:\n",
    "        training_sizes: traing data set\n",
    "        \n",
    "    Return:\n",
    "        Model accuracy\n",
    "    \"\"\"\n",
    "    size = P3(training_sizes,[])\n",
    "    accuracy = sorted([value['accuracy'] for value in size.values()])\n",
    "    accuracy_array = np.arcsin(np.sqrt(accuracy))\n",
    "    training_size_matrix = np.array(training_sizes).reshape((len(training_sizes),1))\n",
    "    linear_regression = LinearRegression(fit_intercept=True)\n",
    "    linear_regression.fit(training_size_matrix,accuracy_array) \n",
    "    prediction = np.power(np.sin(prediction),2)\n",
    "    print (f'Accuracy for training size {training_sizes} after transformation is {prediction}\\n')\n",
    "    return prediction\n",
    "\n",
    "training_sizes = [60000, 120000, 1000000]\n",
    "\n",
    "P4(training_sizes)"
   ]
  },
  {
   "cell_type": "code",
   "execution_count": null,
   "metadata": {},
   "outputs": [],
   "source": []
  },
  {
   "cell_type": "markdown",
   "metadata": {
    "colab_type": "text",
    "id": "geAQJjGRhWAe"
   },
   "source": [
    "### Part 5:\n",
    "\n",
    "Produce a 1-Nearest Neighbor model and show the confusion matrix. Which pair of digits does the model confuse most often? Show the images of these most often confused digits.\n",
    "\n",
    "Notes:\n",
    "- Train on the mini train set.\n",
    "- Evaluate performance on the dev set.\n",
    "- You can use `confusion_matrix()` to produce a confusion matrix."
   ]
  },
  {
   "cell_type": "code",
   "execution_count": 10,
   "metadata": {
    "colab": {},
    "colab_type": "code",
    "id": "Bq36xaQohWAf"
   },
   "outputs": [
    {
     "name": "stdout",
     "output_type": "stream",
     "text": [
      "Confusion matrix is [[101   0   1   0   0   0   1   1   2   0]\n",
      " [  0 116   1   0   0   0   0   0   1   0]\n",
      " [  1   4  84   2   2   0   2   4   6   1]\n",
      " [  0   2   0  84   0   6   0   2   3   0]\n",
      " [  0   0   1   0  78   0   0   2   0  11]\n",
      " [  2   0   0   1   1  77   5   0   2   0]\n",
      " [  1   2   1   0   1   2  94   0   1   0]\n",
      " [  0   1   1   0   0   0   0  96   0   4]\n",
      " [  1   5   4   3   1   3   0   1  72   4]\n",
      " [  0   1   0   0   3   2   0   7   0  82]]\n",
      "\n",
      "\n",
      "The most confused pair of digits are (4, 9)\n",
      "Most confused pairs:\n",
      "\n"
     ]
    },
    {
     "data": {
      "image/png": "[encoded data removed]",
      "text/plain": [
       "<Figure size 432x288 with 12 Axes>"
      ]
     },
     "metadata": {
      "needs_background": "light"
     },
     "output_type": "display_data"
    }
   ],
   "source": [
    "#def P5():\n",
    "\n",
    "### STUDENT START ###\n",
    "def P5(k):\n",
    "    \"\"\"\n",
    "    Evaluation the confusion matrix for 1-Nearest Neighbor model .\n",
    "    \n",
    "    Args:\n",
    "        k: number of neighbors for K nearest neighbor model.\n",
    "    \"\"\"\n",
    "    neighbors = KNeighborsClassifier(n_neighbors=k)\n",
    "    neighbors.fit(mini_train_data,mini_train_labels)\n",
    "    predicted_labels = neighbors.predict(dev_data)\n",
    "    conf_matrix = confusion_matrix(dev_labels,predicted_labels)  \n",
    "    print (f'Confusion matrix is {conf_matrix}\\n')\n",
    "    np.fill_diagonal(conf_matrix,0)\n",
    "    most_confused_pairs = np.unravel_index(np.argmax(conf_matrix),(10,10))\n",
    "    print (f'\\nThe most confused pair of digits are {most_confused_pairs}')\n",
    "    index = np.intersect1d(np.where(dev_labels==str(most_confused_pairs[0])) ,\n",
    "           np.where(predicted_labels ==str(most_confused_pairs[1])))\n",
    "\n",
    "    figure, axes = plt.subplots(nrows=2,ncols=6)\n",
    "    axes = axes.flatten()\n",
    "    i = 0\n",
    "\n",
    "    for index in index:\n",
    "        data = dev_data[index].reshape(28,28)\n",
    "        axes[i].imshow(data,cmap='Greys')\n",
    "        axes[i].axis('off') \n",
    "        i += 1\n",
    "    figure.tight_layout()\n",
    "    print ('Most confused pairs:\\n')\n",
    "    plt.show()\n",
    "    \n",
    "P5(1)\n",
    "### STUDENT END ###\n",
    "\n",
    "#P5()"
   ]
  },
  {
   "cell_type": "markdown",
   "metadata": {},
   "source": [
    "ANSWER: "
   ]
  },
  {
   "cell_type": "markdown",
   "metadata": {
    "colab_type": "text",
    "id": "tgqMKb-hhWAh"
   },
   "source": [
    "### Part 6:\n",
    "\n",
    "A common image processing technique is to smooth an image by blurring. The idea is that the value of a particular pixel is estimated as the weighted combination of the original value and the values around it. Typically, the blurring is Gaussian, i.e., the weight of a pixel's influence is determined by a Gaussian function over the distance to the relevant pixel.\n",
    "\n",
    "Implement a simplified Gaussian blur filter by just using the 8 neighboring pixels like this: the smoothed value of a pixel is a weighted combination of the original value and the 8 neighboring values.\n",
    "\n",
    "Pick a weight, then produce and evaluate four 1-Nearest Neighbor models by applying your blur filter in these ways:\n",
    "- Do not use the filter\n",
    "- Filter the training data but not the dev data\n",
    "- Filter the dev data but not the training data\n",
    "- Filter both training data and dev data\n",
    "\n",
    "Show the accuracies of the four models evaluated as described.  Try to pick a weight that makes one model's accuracy at least 0.9.\n",
    "\n",
    "Notes:\n",
    "* Train on the (filtered) mini train set.\n",
    "* Evaluate performance on the (filtered) dev set.\n",
    "* There are other Guassian blur filters available, for example in `scipy.ndimage.filters`. You are welcome to experiment with those, but you are likely to get the best results with the simplified version described above."
   ]
  },
  {
   "cell_type": "code",
   "execution_count": 11,
   "metadata": {
    "colab": {},
    "colab_type": "code",
    "id": "lSKHmHGshWAi"
   },
   "outputs": [
    {
     "name": "stdout",
     "output_type": "stream",
     "text": [
      "No filter:\n",
      "               precision    recall  f1-score   support\n",
      "\n",
      "           0        1.0       1.0       1.0       106\n",
      "           1        0.9       1.0       0.9       118\n",
      "           2        0.9       0.8       0.8       106\n",
      "           3        0.9       0.9       0.9        97\n",
      "           4        0.9       0.8       0.9        92\n",
      "           5        0.9       0.9       0.9        88\n",
      "           6        0.9       0.9       0.9       102\n",
      "           7        0.8       0.9       0.9       102\n",
      "           8        0.8       0.8       0.8        94\n",
      "           9        0.8       0.9       0.8        95\n",
      "\n",
      "   micro avg        0.9       0.9       0.9      1000\n",
      "   macro avg        0.9       0.9       0.9      1000\n",
      "weighted avg        0.9       0.9       0.9      1000\n",
      "\n",
      "Filtering training data:\n",
      "              precision    recall  f1-score   support\n",
      "\n",
      "           0        0.6       1.0       0.7       106\n",
      "           1        1.0       0.9       0.9       118\n",
      "           2        0.9       0.5       0.7       106\n",
      "           3        0.9       0.8       0.8        97\n",
      "           4        0.9       0.4       0.6        92\n",
      "           5        0.9       0.5       0.6        88\n",
      "           6        0.9       0.8       0.9       102\n",
      "           7        0.9       0.7       0.8       102\n",
      "           8        0.5       0.9       0.7        94\n",
      "           9        0.6       0.8       0.7        95\n",
      "\n",
      "   micro avg        0.7       0.7       0.7      1000\n",
      "   macro avg        0.8       0.7       0.7      1000\n",
      "weighted avg        0.8       0.7       0.7      1000\n",
      "\n"
     ]
    },
    {
     "name": "stderr",
     "output_type": "stream",
     "text": [
      "C:\\Users\\sarahwang\\anaconda3\\lib\\site-packages\\sklearn\\metrics\\classification.py:1143: UndefinedMetricWarning: Precision and F-score are ill-defined and being set to 0.0 in labels with no predicted samples.\n",
      "  'precision', 'predicted', average, warn_for)\n"
     ]
    },
    {
     "name": "stdout",
     "output_type": "stream",
     "text": [
      "Filtering dev data:\n",
      "               precision    recall  f1-score   support\n",
      "\n",
      "           0        0.0       0.0       0.0       106\n",
      "           1        0.1       1.0       0.2       118\n",
      "           2        0.0       0.0       0.0       106\n",
      "           3        0.0       0.0       0.0        97\n",
      "           4        0.0       0.0       0.0        92\n",
      "           5        0.0       0.0       0.0        88\n",
      "           6        0.0       0.0       0.0       102\n",
      "           7        0.0       0.0       0.0       102\n",
      "           8        0.0       0.0       0.0        94\n",
      "           9        0.0       0.0       0.0        95\n",
      "\n",
      "   micro avg        0.1       0.1       0.1      1000\n",
      "   macro avg        0.0       0.1       0.0      1000\n",
      "weighted avg        0.0       0.1       0.0      1000\n",
      "\n",
      "Filtering both training data and dev data:\n",
      "               precision    recall  f1-score   support\n",
      "\n",
      "           0        1.0       1.0       1.0       106\n",
      "           1        0.9       1.0       0.9       118\n",
      "           2        0.9       0.8       0.8       106\n",
      "           3        0.9       0.9       0.9        97\n",
      "           4        0.9       0.8       0.9        92\n",
      "           5        0.9       0.9       0.9        88\n",
      "           6        0.9       0.9       0.9       102\n",
      "           7        0.8       0.9       0.9       102\n",
      "           8        0.8       0.8       0.8        94\n",
      "           9        0.8       0.9       0.8        95\n",
      "\n",
      "   micro avg        0.9       0.9       0.9      1000\n",
      "   macro avg        0.9       0.9       0.9      1000\n",
      "weighted avg        0.9       0.9       0.9      1000\n",
      "\n"
     ]
    }
   ],
   "source": [
    "#def P6():\n",
    "    \n",
    "### STUDENT START ###\n",
    "from numpy.core import multiarray \n",
    "\n",
    "def get_blurred_pixel(color_data,row,col,r,sigma):\n",
    "        \"\"\"Calculate smoothed color intensity for a pixel\n",
    "    \n",
    "        Arges:\n",
    "            color_data: color intensity data\n",
    "            row: row of the pixel \n",
    "            colL: column of the pixel\n",
    "            r: radius of pixels\n",
    "            sigma: standard deviation of the Gaussian kernel\n",
    "        Return:\n",
    "            Blurred pixel\n",
    "\n",
    "        \"\"\"\n",
    "        image =color_data[(row-r):(row+r+1),(col-r):(col+r+1)]\n",
    "        distance = np.array(range(-1,1+1))\n",
    "        dist_2d = [1/(2*3.14159*sigma**2)*np.exp(-(distance**2+y_dist**2)/(2*sigma**2)) for y_dist in distance]\n",
    "        norm_g2d = dist_2d/np.sum(dist_2d)\n",
    "        return np.mean(image*dist_2d/np.sum(dist_2d))\n",
    "    \n",
    "def blur_image(image,r,sigma):\n",
    "    \"\"\"\n",
    "    Return Gaussian blurred image\n",
    "    \n",
    "    Args:\n",
    "        image: image data\n",
    "        r: radium\n",
    "        sigma: sigma of Gaussian kernel\n",
    "    \n",
    "    Return:\n",
    "        Return bluured images\n",
    "    \n",
    "    \"\"\"\n",
    "    \n",
    "    image_dim = int(np.sqrt(len(image)))\n",
    "    image_data = image.reshape(image_dim,image_dim)\n",
    "    blurred_array = np.array([get_blurred_pixel(color_data=image_data,\n",
    "              row=row,col=col,r=r,sigma=sigma)\n",
    "          for row in range(r,image_dim-r) for col in range(r,image_dim-r)])\n",
    "    return blurred_array\n",
    "    \n",
    "def P6(): \n",
    "    \"\"\"\n",
    "    Evaluate 1-Nearest Neighbor models with different filtering methods\n",
    "    \n",
    "    Returns:\n",
    "        Classification reports for each filtering methods\n",
    "    \n",
    "    \"\"\"   \n",
    "    mini_train_data_blurred = [blur_image(record,r=1,sigma=0.333) \n",
    "                               for record in mini_train_data]\n",
    "    dev_data_blurred =  [blur_image(record,r=1,sigma=0.333) \n",
    "                              for record in dev_data]\n",
    "    mini_train_data_cropped = [img.reshape(28,28)[1:27,1:27].ravel() for img in mini_train_data]\n",
    "    dev_data_cropped = [img.reshape(28,28)[1:27,1:27].ravel() for img in dev_data]\n",
    "    \n",
    "    # No filtering\n",
    "    neighbors = KNeighborsClassifier(n_neighbors=1)\n",
    "    neighbors.fit(mini_train_data_cropped,mini_train_labels)\n",
    "    pred_labels = neighbors.predict(dev_data_cropped)\n",
    "    print (f'No filter:\\n {classification_report(dev_labels,pred_labels, digits=1)}')\n",
    "    \n",
    "    # Filtering mini training data\n",
    "    neighbors = KNeighborsClassifier(n_neighbors=1)\n",
    "    neighbors.fit(mini_train_data_blurred,mini_train_labels)\n",
    "    pred_labels = neighbors.predict(dev_data_cropped)\n",
    "    print (f'Filtering training data:\\n{classification_report(dev_labels,pred_labels, digits=1)}')\n",
    "\n",
    "    # Filtering dev data\n",
    "    neighbors = KNeighborsClassifier(n_neighbors=1)\n",
    "    neighbors.fit(mini_train_data_cropped,mini_train_labels)\n",
    "    pred_labels = neighbors.predict(dev_data_blurred)\n",
    "    print (f'Filtering dev data:\\n {classification_report(dev_labels,pred_labels, digits=1)}')\n",
    "\n",
    "    \n",
    "    # Filtering both training data and dev data\n",
    "    neighbors = KNeighborsClassifier(n_neighbors=1)\n",
    "    neighbors.fit(mini_train_data_blurred,mini_train_labels)\n",
    "    pred_labels = neighbors.predict(dev_data_blurred)\n",
    "    print (f'Filtering both training data and dev data:\\n {classification_report(dev_labels,pred_labels, digits=1)}')\n",
    "\n",
    "P6()\n",
    "\n",
    "### STUDENT END ###\n",
    "\n",
    "#P6()"
   ]
  },
  {
   "cell_type": "markdown",
   "metadata": {
    "colab_type": "text",
    "id": "LtgepWfAhWAk"
   },
   "source": [
    "### Part 7:\n",
    "\n",
    "Produce two Naive Bayes models and evaluate their performances.  Recall that Naive Bayes estimates P(feature|label), where each label is a categorical, not a real number.\n",
    "\n",
    "For the first model, map pixel values to either 0 or 1, representing white or black - you should pre-process the data or use `BernoulliNB`'s `binarize` parameter to set the white/black separation threshold to 0.1.  Use `BernoulliNB` to produce the model.\n",
    "\n",
    "For the second model, map pixel values to either 0, 1, or 2, representing white, gray, or black - you should pre-process the data, seting the white/gray/black separation thresholds to 0.1 and 0.9.  Use `MultinomialNB` to produce the model. \n",
    "\n",
    "Show the Bernoulli model accuracy and the Multinomial model accuracy.\n",
    "\n",
    "Notes:\n",
    "* Train on the mini train set.\n",
    "* Evaluate performance on the dev set.\n",
    "* `sklearn`'s Naive Bayes methods can handle real numbers, but for this exercise explicitly do the mapping to categoricals. \n",
    "\n",
    "Does the multinomial version improve the results? Why or why not?"
   ]
  },
  {
   "cell_type": "code",
   "execution_count": 12,
   "metadata": {
    "colab": {},
    "colab_type": "code",
    "id": "eGpH-4IQhWAk"
   },
   "outputs": [
    {
     "name": "stdout",
     "output_type": "stream",
     "text": [
      "Bernoulli model at 0.1 accuracy: 0.829\n",
      "Multinomial model at 0 and 0.90 accuracy: 0.815\n"
     ]
    }
   ],
   "source": [
    "#def P7():\n",
    "\n",
    "### STUDENT START ###\n",
    "\n",
    "def map_data(data,threshold_1,threshold_2):\n",
    "    \"\"\"\n",
    "    Map data to either 0, 1, or 2\n",
    "    \n",
    "    Args:\n",
    "        data: data to be mapped\n",
    "        threshold_1: data less than threshold_1 will be mapped as 0\n",
    "        threshold_2: data greater than threshold_2 will be mapped as 2; data between threshold_1 and threshold_2 will be mapped as 1\n",
    "    Return:\n",
    "        Mapped data with value of either 0, 1, or 2\n",
    "    \"\"\"\n",
    "    res = []\n",
    "    for d in data:           \n",
    "        if(d > threshold_2):\n",
    "            res.append(2)\n",
    "        elif(d > threshold_1 and d < threshold_2):\n",
    "            res.append(1)\n",
    "        else:\n",
    "            res.append(0)\n",
    "    return res\n",
    "\n",
    "def P7():\n",
    "    \"\"\"\n",
    "    Evaluation the results of Naive Bayes estimator using Bernoulli and Multinomial models.\n",
    "    \n",
    "    Return:\n",
    "        Accuracy of Naive Bayes estimator using Bernoulli and Multinomial models\n",
    "    \n",
    "    \"\"\"\n",
    "\n",
    "    mapped_train_data =  [map_data(images,0,0.9) for images in train_data]\n",
    "    mapped_dev_data =  [map_data(images,0,0.9) for images in dev_data]\n",
    "\n",
    "    bernoulli1 = BernoulliNB(binarize=0.1)\n",
    "    bernoulli1.fit(train_data, train_labels)\n",
    "\n",
    "    multinomial_0_9 = MultinomialNB()\n",
    "    multinomial_0_9.fit(mapped_train_data,train_labels)\n",
    "\n",
    "    print (f'Bernoulli model at 0.1 accuracy: {bernoulli1.score(dev_data, dev_labels)}')\n",
    "    print (f'Multinomial model at 0 and 0.90 accuracy: {multinomial_0_9.score(mapped_dev_data, dev_labels)}')\n",
    "\n",
    "P7()\n",
    "\n",
    "    \n",
    "### STUDENT END ###\n",
    "\n",
    "#P7()"
   ]
  },
  {
   "cell_type": "markdown",
   "metadata": {
    "colab_type": "text",
    "id": "zNLrgggohWAm"
   },
   "source": [
    "ANSWER: Based on the score, multinomial model does not improve the results"
   ]
  },
  {
   "cell_type": "markdown",
   "metadata": {
    "colab_type": "text",
    "id": "PqjbRLg7hWAm"
   },
   "source": [
    "### Part 8:\n",
    "\n",
    "Search across several values of the LaPlace smoothing parameter (alpha) to find its effect on a Bernoulli Naive Bayes model's performance.  Show the accuracy at each alpha value.\n",
    "\n",
    "Notes:\n",
    "* Set binarization threshold to 0.\n",
    "* Train on the mini train set.\n",
    "* Evaluate performance by 5-fold cross-validation. \n",
    "* Use `GridSearchCV(..., ..., cv=..., scoring='accuracy', iid=False)` to vary alpha and evaluate performance by cross-validation.\n",
    "* Cross-validation is based on partitions of the training data, so results will be a bit different than if you had used the dev set to evaluate performance.\n",
    "\n",
    "What is the best value for alpha? What is the accuracy when alpha is near 0? Is this what you'd expect?"
   ]
  },
  {
   "cell_type": "code",
   "execution_count": 13,
   "metadata": {
    "colab": {},
    "colab_type": "code",
    "id": "0AvZ-Wp3hWAn"
   },
   "outputs": [
    {
     "name": "stderr",
     "output_type": "stream",
     "text": [
      "C:\\Users\\sarahwang\\anaconda3\\lib\\site-packages\\sklearn\\model_selection\\_split.py:2053: FutureWarning: You should specify a value for 'cv' instead of relying on the default value. The default value will change from 3 to 5 in version 0.22.\n",
      "  warnings.warn(CV_WARNING, FutureWarning)\n"
     ]
    },
    {
     "name": "stdout",
     "output_type": "stream",
     "text": [
      "Best alpha = {'alpha': 1e-10}\n"
     ]
    },
    {
     "name": "stderr",
     "output_type": "stream",
     "text": [
      "C:\\Users\\sarahwang\\anaconda3\\lib\\site-packages\\sklearn\\naive_bayes.py:480: UserWarning: alpha too small will result in numeric errors, setting alpha = 1.0e-10\n",
      "  'setting alpha = %.1e' % _ALPHA_MIN)\n"
     ]
    }
   ],
   "source": [
    "#def P8(alphas):\n",
    "\n",
    "### STUDENT START ###\n",
    "def P8(alphas):\n",
    "    \"\"\"\n",
    "    Search across several values of the LaPlace smoothing parameter (alpha) to find its effect on a Bernoulli Naive Bayes model's performance\n",
    "    \n",
    "    Args:\n",
    "    \n",
    "        alphas: value of the  smoothing hyperparameter.\n",
    "            \n",
    "    Returns: \n",
    "        Best fit of the Bernoulli NB model. \n",
    "    \n",
    "    \"\"\"\n",
    "    bernoulli0 = BernoulliNB(binarize=0)\n",
    "    bernoulli0_cv = GridSearchCV(bernoulli0,alphas)\n",
    "    fit = bernoulli0_cv.fit(train_data, train_labels)\n",
    "\n",
    "    bernoulli0_alpha0 = BernoulliNB(alpha=0,binarize=0)\n",
    "    bernoulli0_alpha0.fit(train_data, train_labels)\n",
    "    pred_labels = bernoulli0_alpha0.predict(dev_data)    \n",
    "    return fit\n",
    "\n",
    "alphas = {'alpha': [1.0e-10, 0.0001, 0.001, 0.01, 0.1, 0.5, 1.0, 2.0, 10.0]}\n",
    "nb = P8(alphas)\n",
    "print(f'Best alpha = {nb.best_params_}' )\n",
    "\n",
    "### STUDENT END ###\n",
    "\n",
    "# alphas = {'alpha': [1.0e-10, 0.0001, 0.001, 0.01, 0.1, 0.5, 1.0, 2.0, 10.0]}\n",
    "# nb = P8(alphas)\n",
    "# print()\n",
    "# print(\"Best alpha = \", nb.best_params_)"
   ]
  },
  {
   "cell_type": "markdown",
   "metadata": {
    "colab_type": "text",
    "id": "1yEg9keThWAp"
   },
   "source": [
    "ANSWER: The best alpha is 1e-10"
   ]
  },
  {
   "cell_type": "markdown",
   "metadata": {
    "colab_type": "text",
    "id": "B07GDiDdhWAq"
   },
   "source": [
    "### Part 9:\n",
    "\n",
    "Produce a model using Guassian Naive Bayes, which is intended for real-valued features, and evaluate performance. You will notice that it does not work so well. Diagnose the problem and apply a simple fix so that the model accuracy is around the same as for a Bernoulli Naive Bayes model. Show the model accuracy before your fix and the model accuracy after your fix.  Explain your solution.\n",
    "\n",
    "Notes:\n",
    "* Train on the mini train set.\n",
    "* Evaluate performance on the dev set.\n",
    "* Consider the effects of theta and sigma.  These are stored in the model's `theta_` and `sigma_` attributes."
   ]
  },
  {
   "cell_type": "code",
   "execution_count": 14,
   "metadata": {
    "colab": {},
    "colab_type": "code",
    "id": "gBLbTMWChWAq"
   },
   "outputs": [
    {
     "name": "stdout",
     "output_type": "stream",
     "text": [
      "Gaussian Naive Bayes results \n",
      "               precision    recall  f1-score   support\n",
      "\n",
      "           0       0.79      0.92      0.85       106\n",
      "           1       0.83      0.92      0.88       118\n",
      "           2       0.89      0.23      0.36       106\n",
      "           3       0.73      0.38      0.50        97\n",
      "           4       0.93      0.28      0.43        92\n",
      "           5       0.79      0.12      0.22        88\n",
      "           6       0.61      0.92      0.73       102\n",
      "           7       0.91      0.40      0.56       102\n",
      "           8       0.27      0.60      0.37        94\n",
      "           9       0.42      0.96      0.58        95\n",
      "\n",
      "   micro avg       0.59      0.59      0.59      1000\n",
      "   macro avg       0.72      0.57      0.55      1000\n",
      "weighted avg       0.72      0.59      0.56      1000\n",
      "\n",
      "theta is \n",
      " [[0. 0. 0. ... 0. 0. 0.]\n",
      " [0. 0. 0. ... 0. 0. 0.]\n",
      " [0. 0. 0. ... 0. 0. 0.]\n",
      " ...\n",
      " [0. 0. 0. ... 0. 0. 0.]\n",
      " [0. 0. 0. ... 0. 0. 0.]\n",
      " [0. 0. 0. ... 0. 0. 0.]]\n",
      " sigma is \n",
      " [[1.99408716e-10 1.99408716e-10 1.99408716e-10 ... 1.99408716e-10\n",
      "  1.99408716e-10 1.99408716e-10]\n",
      " [1.99408716e-10 1.99408716e-10 1.99408716e-10 ... 1.99408716e-10\n",
      "  1.99408716e-10 1.99408716e-10]\n",
      " [1.99408716e-10 1.99408716e-10 1.99408716e-10 ... 1.99408716e-10\n",
      "  1.99408716e-10 1.99408716e-10]\n",
      " ...\n",
      " [1.99408716e-10 1.99408716e-10 1.99408716e-10 ... 1.99408716e-10\n",
      "  1.99408716e-10 1.99408716e-10]\n",
      " [1.99408716e-10 1.99408716e-10 1.99408716e-10 ... 1.99408716e-10\n",
      "  1.99408716e-10 1.99408716e-10]\n",
      " [1.99408716e-10 1.99408716e-10 1.99408716e-10 ... 1.99408716e-10\n",
      "  1.99408716e-10 1.99408716e-10]]\n",
      "\n",
      "Gaussian Naive Bayes results with blurred training data\n",
      "               precision    recall  f1-score   support\n",
      "\n",
      "           0       0.72      0.96      0.83       106\n",
      "           1       0.96      0.78      0.86       118\n",
      "           2       0.71      0.70      0.70       106\n",
      "           3       0.77      0.63      0.69        97\n",
      "           4       0.89      0.62      0.73        92\n",
      "           5       0.43      0.76      0.55        88\n",
      "           6       0.87      0.84      0.86       102\n",
      "           7       0.82      0.85      0.84       102\n",
      "           8       0.71      0.59      0.64        94\n",
      "           9       0.82      0.68      0.75        95\n",
      "\n",
      "   micro avg       0.75      0.75      0.75      1000\n",
      "   macro avg       0.77      0.74      0.74      1000\n",
      "weighted avg       0.78      0.75      0.75      1000\n",
      "\n",
      "Gaussian Naive Bayes results with random noise added training data\n",
      "               precision    recall  f1-score   support\n",
      "\n",
      "           0       0.92      0.92      0.92       106\n",
      "           1       0.85      0.96      0.90       118\n",
      "           2       0.89      0.67      0.76       106\n",
      "           3       0.78      0.76      0.77        97\n",
      "           4       0.81      0.76      0.79        92\n",
      "           5       0.89      0.66      0.76        88\n",
      "           6       0.81      0.90      0.86       102\n",
      "           7       0.98      0.86      0.92       102\n",
      "           8       0.61      0.69      0.65        94\n",
      "           9       0.69      0.89      0.78        95\n",
      "\n",
      "   micro avg       0.81      0.81      0.81      1000\n",
      "   macro avg       0.82      0.81      0.81      1000\n",
      "weighted avg       0.83      0.81      0.81      1000\n",
      "\n"
     ]
    }
   ],
   "source": [
    "#def P9(): \n",
    "\n",
    "### STUDENT END ###\n",
    "def P9():\n",
    "    \"\"\"\n",
    "    Produce a model using Guassian Naive Bayes, and improved the accuracy\n",
    "    \"\"\"\n",
    "    \n",
    "    gaussian = GaussianNB()\n",
    "    gaussian.fit(train_data, train_labels)\n",
    "    predicted_labels = gaussian.predict(dev_data)\n",
    "    print (f'Gaussian Naive Bayes results \\n {classification_report(dev_labels,predicted_labels)}')\n",
    "\n",
    "    print (f'theta is \\n {gaussian.theta_}\\n sigma is \\n {gaussian.sigma_}\\n')\n",
    "\n",
    "    blurred_data_ = gaussian_filter(train_data,sigma=1)\n",
    "    blurred_gaussian = GaussianNB()\n",
    "    blurred_gaussian.fit(blurred_data_, train_labels)\n",
    "    blurred_predicted_labels = blurred_gaussian.predict(dev_data)\n",
    "    print (f'Gaussian Naive Bayes results with blurred training data\\n {classification_report(dev_labels,blurred_predicted_labels)}')\n",
    "\n",
    "    additional_noise = []\n",
    "    for i in range(len(train_data)):\n",
    "        additional_noise.append(np.random.normal(0,0.1,28*28))\n",
    "    noise_data = train_data+additional_noise\n",
    "\n",
    "    noise_gaussian = GaussianNB()\n",
    "    noise_gaussian.fit(noise_data, train_labels)\n",
    "    noise_predicted_labels = noise_gaussian.predict(dev_data)\n",
    "    print (f'Gaussian Naive Bayes results with random noise added training data\\n {classification_report(dev_labels,noise_predicted_labels)}')\n",
    "\n",
    "gnb = P9()  \n",
    "\n",
    "### STUDENT END ###\n",
    "\n",
    "#P9()"
   ]
  },
  {
   "cell_type": "markdown",
   "metadata": {
    "colab_type": "text",
    "id": "1SyHTEJohWAt"
   },
   "source": [
    "ANSWER: The Gaussian Naive Bayes model does not have as accurate results as the Bernoulli Naive Bayes model, caused by a large number of zero color intensities. As shown by the estimated parameters, all coefficients and standard deviations are estimated to be zero. "
   ]
  },
  {
   "cell_type": "markdown",
   "metadata": {
    "colab_type": "text",
    "id": "dgZMuc1VhWAt"
   },
   "source": [
    "### Part 10:\n",
    "\n",
    "Because Naive Bayes produces a generative model, you can use it to generate digit images.\n",
    "\n",
    "Produce a Bernoulli Naive Bayes model and then use it to generate a 10x20 grid with 20 example images of each digit. Each pixel output should be either 0 or 1, based on comparing some randomly generated number to the estimated probability of the pixel being either 0 or 1.  Show the grid.\n",
    "\n",
    "Notes:\n",
    "* You can use np.random.rand() to generate random numbers from a uniform distribution.\n",
    "* The estimated probability of each pixel being 0 or 1 is stored in the model's `feature_log_prob_` attribute. You can use `np.exp()` to convert a log probability back to a probability.\n",
    "\n",
    "How do the generated digit images compare to the training digit images?"
   ]
  },
  {
   "cell_type": "code",
   "execution_count": 15,
   "metadata": {
    "colab": {},
    "colab_type": "code",
    "id": "ktii-Mp-hWAu"
   },
   "outputs": [
    {
     "data": {
      "image/png": "[encoded data removed]",
      "text/plain": [
       "<Figure size 1080x1152 with 210 Axes>"
      ]
     },
     "metadata": {
      "needs_background": "light"
     },
     "output_type": "display_data"
    }
   ],
   "source": [
    "#def P10(num_examples):\n",
    "\n",
    "### STUDENT START ###\n",
    "\n",
    "def get_digit(data,labels,digit):\n",
    "    \"\"\"\n",
    "    Get digit from data array\n",
    "    \n",
    "    Args:\n",
    "        data: data input\n",
    "        label: label input\n",
    "        digit: digit to be found in the data array\n",
    "        \n",
    "    Return:\n",
    "        return matched digit\n",
    "    \"\"\"\n",
    "    idx = np.where(labels==str(digit))\n",
    "    color =reduce(lambda img1,img2: img1+img2, \n",
    "                          data[idx])/len(idx)\n",
    "    return color\n",
    "\n",
    "    \n",
    "def P10(num_examples):\n",
    "    \"\"\"\n",
    "    Use Bernoulli Naive Bayes model to generate a 10x20 grid with 20 example images of each digit\n",
    "    \n",
    "    Args:\n",
    "        num_example: number of example images of each digit\n",
    "    \n",
    "    Return: \n",
    "        A 10x20 grid with 20 example images of each digit\n",
    "    \"\"\"\n",
    "    bernoulli_model = BernoulliNB(alpha=1e-6,binarize=0)\n",
    "    bernoulli_model.fit(mini_train_data, mini_train_labels)\n",
    "    fig, axes = plt.subplots(nrows=10,\n",
    "                             ncols=num_examples+1,\n",
    "                             figsize=(15,16))\n",
    "    for d in range(10):\n",
    "        for n in range(num_examples+1):\n",
    "            if(n is 0):\n",
    "                data = get_digit(mini_train_data,mini_train_labels,d)\n",
    "            else:                \n",
    "                data = (np.exp(bernoulli_model.feature_log_prob_)[d]>np.random.rand(784))\n",
    "            axes[d][n].imshow(data.reshape(28,28),cmap='Greys')\n",
    "            axes[d][n].axis('off') # reduce the clutter around the images\n",
    "            axes[d][n].get_xaxis().set_visible(False) # reduce the whitespace\n",
    "            axes[d][n].get_yaxis().set_visible(False) # between the subplots\n",
    "            \n",
    "                \n",
    "    fig.tight_layout()\n",
    "    plt.show()\n",
    "\n",
    "\n",
    "P10(20)\n",
    "\n",
    "### STUDENT END ###\n",
    "\n",
    "#P10(20)"
   ]
  },
  {
   "cell_type": "markdown",
   "metadata": {
    "colab_type": "text",
    "id": "SuQd1fTGhWAw"
   },
   "source": [
    "ANSWER: First column in the above graph is the average color intensities for each digit of the training data set.\n",
    "    Rest of the columns are examples of the simulated digits. Training set's digits are much smoother than the generated digits"
   ]
  },
  {
   "cell_type": "markdown",
   "metadata": {
    "colab_type": "text",
    "id": "ksHMg73uhWAx"
   },
   "source": [
    "### Part 11:\n",
    "\n",
    "Recall that a strongly calibrated classifier is rougly 90% accurate when the posterior probability of the predicted class is 0.9. A weakly calibrated classifier is more accurate when the posterior probability of the predicted class is 90% than when it is 80%. A poorly calibrated classifier has no positive correlation between posterior probability and accuracy.  \n",
    "\n",
    "Produce a Bernoulli Naive Bayes model.  Evaluate performance: partition the dev set into several buckets based on the posterior probabilities of the predicted classes - think of a bin in a histogram- and then estimate the accuracy for each bucket. So, for each prediction, find the bucket to which the maximum posterior probability belongs, and update \"correct\" and \"total\" counters accordingly.  Show the accuracy for each bucket.\n",
    "\n",
    "Notes:\n",
    "* Set LaPlace smoothing (alpha) to the optimal value (from part 8).\n",
    "* Set binarization threshold to 0.\n",
    "* Train on the mini train set.\n",
    "* Evaluate perfromance on the dev set.\n",
    "\n",
    "How would you characterize the calibration for this Bernoulli Naive Bayes model?"
   ]
  },
  {
   "cell_type": "code",
   "execution_count": 16,
   "metadata": {
    "colab": {},
    "colab_type": "code",
    "id": "a1N-St12hWAy"
   },
   "outputs": [
    {
     "ename": "ValueError",
     "evalue": "operands could not be broadcast together with shapes (60000,784) (9,) ",
     "output_type": "error",
     "traceback": [
      "\u001b[1;31m---------------------------------------------------------------------------\u001b[0m",
      "\u001b[1;31mValueError\u001b[0m                                Traceback (most recent call last)",
      "\u001b[1;32m<ipython-input-16-239193161776>\u001b[0m in \u001b[0;36m<module>\u001b[1;34m\u001b[0m\n\u001b[0;32m     15\u001b[0m \u001b[0mtotal\u001b[0m \u001b[1;33m=\u001b[0m \u001b[1;33m[\u001b[0m\u001b[1;36m0\u001b[0m \u001b[1;32mfor\u001b[0m \u001b[0mi\u001b[0m \u001b[1;32min\u001b[0m \u001b[0mbuckets\u001b[0m\u001b[1;33m]\u001b[0m\u001b[1;33m\u001b[0m\u001b[0m\n\u001b[0;32m     16\u001b[0m \u001b[1;33m\u001b[0m\u001b[0m\n\u001b[1;32m---> 17\u001b[1;33m \u001b[0mP11\u001b[0m\u001b[1;33m(\u001b[0m\u001b[0mbuckets\u001b[0m\u001b[1;33m,\u001b[0m \u001b[0mcorrect\u001b[0m\u001b[1;33m,\u001b[0m \u001b[0mtotal\u001b[0m\u001b[1;33m)\u001b[0m\u001b[1;33m\u001b[0m\u001b[0m\n\u001b[0m\u001b[0;32m     18\u001b[0m \u001b[1;33m\u001b[0m\u001b[0m\n\u001b[0;32m     19\u001b[0m \u001b[1;32mfor\u001b[0m \u001b[0mi\u001b[0m \u001b[1;32min\u001b[0m \u001b[0mrange\u001b[0m\u001b[1;33m(\u001b[0m\u001b[0mlen\u001b[0m\u001b[1;33m(\u001b[0m\u001b[0mbuckets\u001b[0m\u001b[1;33m)\u001b[0m\u001b[1;33m)\u001b[0m\u001b[1;33m:\u001b[0m\u001b[1;33m\u001b[0m\u001b[0m\n",
      "\u001b[1;32m<ipython-input-16-239193161776>\u001b[0m in \u001b[0;36mP11\u001b[1;34m(buckets, alpha, threshold)\u001b[0m\n\u001b[0;32m      6\u001b[0m     \u001b[1;31m# fit model\u001b[0m\u001b[1;33m\u001b[0m\u001b[1;33m\u001b[0m\u001b[0m\n\u001b[0;32m      7\u001b[0m     \u001b[0mbernoulli\u001b[0m \u001b[1;33m=\u001b[0m \u001b[0mBernoulliNB\u001b[0m\u001b[1;33m(\u001b[0m\u001b[0malpha\u001b[0m\u001b[1;33m=\u001b[0m\u001b[0malpha\u001b[0m\u001b[1;33m,\u001b[0m\u001b[0mbinarize\u001b[0m\u001b[1;33m=\u001b[0m\u001b[0mthreshold\u001b[0m\u001b[1;33m)\u001b[0m\u001b[1;33m\u001b[0m\u001b[0m\n\u001b[1;32m----> 8\u001b[1;33m     \u001b[0mbernoulli\u001b[0m\u001b[1;33m.\u001b[0m\u001b[0mfit\u001b[0m\u001b[1;33m(\u001b[0m\u001b[0mtrain_data\u001b[0m\u001b[1;33m,\u001b[0m \u001b[0mtrain_labels\u001b[0m\u001b[1;33m)\u001b[0m\u001b[1;33m\u001b[0m\u001b[0m\n\u001b[0m\u001b[0;32m      9\u001b[0m     \u001b[0mposterior_probability\u001b[0m \u001b[1;33m=\u001b[0m \u001b[0mbernoulli\u001b[0m\u001b[1;33m.\u001b[0m\u001b[0mpredict_proba\u001b[0m\u001b[1;33m(\u001b[0m\u001b[0mdev_data\u001b[0m\u001b[1;33m)\u001b[0m\u001b[1;33m\u001b[0m\u001b[0m\n\u001b[0;32m     10\u001b[0m \u001b[1;33m\u001b[0m\u001b[0m\n",
      "\u001b[1;32m~\\anaconda3\\lib\\site-packages\\sklearn\\naive_bayes.py\u001b[0m in \u001b[0;36mfit\u001b[1;34m(self, X, y, sample_weight)\u001b[0m\n\u001b[0;32m    608\u001b[0m         self.feature_count_ = np.zeros((n_effective_classes, n_features),\n\u001b[0;32m    609\u001b[0m                                        dtype=np.float64)\n\u001b[1;32m--> 610\u001b[1;33m         \u001b[0mself\u001b[0m\u001b[1;33m.\u001b[0m\u001b[0m_count\u001b[0m\u001b[1;33m(\u001b[0m\u001b[0mX\u001b[0m\u001b[1;33m,\u001b[0m \u001b[0mY\u001b[0m\u001b[1;33m)\u001b[0m\u001b[1;33m\u001b[0m\u001b[0m\n\u001b[0m\u001b[0;32m    611\u001b[0m         \u001b[0malpha\u001b[0m \u001b[1;33m=\u001b[0m \u001b[0mself\u001b[0m\u001b[1;33m.\u001b[0m\u001b[0m_check_alpha\u001b[0m\u001b[1;33m(\u001b[0m\u001b[1;33m)\u001b[0m\u001b[1;33m\u001b[0m\u001b[0m\n\u001b[0;32m    612\u001b[0m         \u001b[0mself\u001b[0m\u001b[1;33m.\u001b[0m\u001b[0m_update_feature_log_prob\u001b[0m\u001b[1;33m(\u001b[0m\u001b[0malpha\u001b[0m\u001b[1;33m)\u001b[0m\u001b[1;33m\u001b[0m\u001b[0m\n",
      "\u001b[1;32m~\\anaconda3\\lib\\site-packages\\sklearn\\naive_bayes.py\u001b[0m in \u001b[0;36m_count\u001b[1;34m(self, X, Y)\u001b[0m\n\u001b[0;32m    918\u001b[0m         \u001b[1;34m\"\"\"Count and smooth feature occurrences.\"\"\"\u001b[0m\u001b[1;33m\u001b[0m\u001b[0m\n\u001b[0;32m    919\u001b[0m         \u001b[1;32mif\u001b[0m \u001b[0mself\u001b[0m\u001b[1;33m.\u001b[0m\u001b[0mbinarize\u001b[0m \u001b[1;32mis\u001b[0m \u001b[1;32mnot\u001b[0m \u001b[1;32mNone\u001b[0m\u001b[1;33m:\u001b[0m\u001b[1;33m\u001b[0m\u001b[0m\n\u001b[1;32m--> 920\u001b[1;33m             \u001b[0mX\u001b[0m \u001b[1;33m=\u001b[0m \u001b[0mbinarize\u001b[0m\u001b[1;33m(\u001b[0m\u001b[0mX\u001b[0m\u001b[1;33m,\u001b[0m \u001b[0mthreshold\u001b[0m\u001b[1;33m=\u001b[0m\u001b[0mself\u001b[0m\u001b[1;33m.\u001b[0m\u001b[0mbinarize\u001b[0m\u001b[1;33m)\u001b[0m\u001b[1;33m\u001b[0m\u001b[0m\n\u001b[0m\u001b[0;32m    921\u001b[0m         \u001b[0mself\u001b[0m\u001b[1;33m.\u001b[0m\u001b[0mfeature_count_\u001b[0m \u001b[1;33m+=\u001b[0m \u001b[0msafe_sparse_dot\u001b[0m\u001b[1;33m(\u001b[0m\u001b[0mY\u001b[0m\u001b[1;33m.\u001b[0m\u001b[0mT\u001b[0m\u001b[1;33m,\u001b[0m \u001b[0mX\u001b[0m\u001b[1;33m)\u001b[0m\u001b[1;33m\u001b[0m\u001b[0m\n\u001b[0;32m    922\u001b[0m         \u001b[0mself\u001b[0m\u001b[1;33m.\u001b[0m\u001b[0mclass_count_\u001b[0m \u001b[1;33m+=\u001b[0m \u001b[0mY\u001b[0m\u001b[1;33m.\u001b[0m\u001b[0msum\u001b[0m\u001b[1;33m(\u001b[0m\u001b[0maxis\u001b[0m\u001b[1;33m=\u001b[0m\u001b[1;36m0\u001b[0m\u001b[1;33m)\u001b[0m\u001b[1;33m\u001b[0m\u001b[0m\n",
      "\u001b[1;32m~\\anaconda3\\lib\\site-packages\\sklearn\\preprocessing\\data.py\u001b[0m in \u001b[0;36mbinarize\u001b[1;34m(X, threshold, copy)\u001b[0m\n\u001b[0;32m   1725\u001b[0m         \u001b[0mX\u001b[0m\u001b[1;33m.\u001b[0m\u001b[0meliminate_zeros\u001b[0m\u001b[1;33m(\u001b[0m\u001b[1;33m)\u001b[0m\u001b[1;33m\u001b[0m\u001b[0m\n\u001b[0;32m   1726\u001b[0m     \u001b[1;32melse\u001b[0m\u001b[1;33m:\u001b[0m\u001b[1;33m\u001b[0m\u001b[0m\n\u001b[1;32m-> 1727\u001b[1;33m         \u001b[0mcond\u001b[0m \u001b[1;33m=\u001b[0m \u001b[0mX\u001b[0m \u001b[1;33m>\u001b[0m \u001b[0mthreshold\u001b[0m\u001b[1;33m\u001b[0m\u001b[0m\n\u001b[0m\u001b[0;32m   1728\u001b[0m         \u001b[0mnot_cond\u001b[0m \u001b[1;33m=\u001b[0m \u001b[0mnp\u001b[0m\u001b[1;33m.\u001b[0m\u001b[0mlogical_not\u001b[0m\u001b[1;33m(\u001b[0m\u001b[0mcond\u001b[0m\u001b[1;33m)\u001b[0m\u001b[1;33m\u001b[0m\u001b[0m\n\u001b[0;32m   1729\u001b[0m         \u001b[0mX\u001b[0m\u001b[1;33m[\u001b[0m\u001b[0mcond\u001b[0m\u001b[1;33m]\u001b[0m \u001b[1;33m=\u001b[0m \u001b[1;36m1\u001b[0m\u001b[1;33m\u001b[0m\u001b[0m\n",
      "\u001b[1;31mValueError\u001b[0m: operands could not be broadcast together with shapes (60000,784) (9,) "
     ]
    }
   ],
   "source": [
    "#def P11(buckets, correct, total):\n",
    "    \n",
    "### STUDENT START ###\n",
    "\n",
    "def P11(buckets,alpha=1,threshold=0):\n",
    "    # fit model\n",
    "    bernoulli = BernoulliNB(alpha=alpha,binarize=threshold)\n",
    "    bernoulli.fit(train_data, train_labels)\n",
    "    posterior_probability = bernoulli.predict_proba(dev_data)\n",
    "                \n",
    "### STUDENT END ###\n",
    "\n",
    "buckets = [0.5, 0.9, 0.999, 0.99999, 0.9999999, 0.999999999, 0.99999999999, 0.9999999999999, 1.0]\n",
    "correct = [0 for i in buckets]\n",
    "total = [0 for i in buckets]\n",
    "\n",
    "P11(buckets, correct, total)\n",
    "\n",
    "for i in range(len(buckets)):\n",
    "    accuracy = 0.0\n",
    "    if (total[i] > 0): accuracy = correct[i] / total[i]\n",
    "    print('p(pred) is %.13f to %.13f    total = %3d    accuracy = %.3f' % (0 if i==0 else buckets[i-1], buckets[i], total[i], accuracy))"
   ]
  },
  {
   "cell_type": "code",
   "execution_count": null,
   "metadata": {},
   "outputs": [],
   "source": [
    "bernoulli = BernoulliNB(alpha=1,binarize=0)\n",
    "bernoulli.fit(train_data, train_labels)\n",
    "posterior_probs = bernoulli.predict_proba(dev_data)\n",
    "# find maximum posterior and predicted label\n",
    "posterior_max,pred_labels =zip(*map(lambda posterior_prob: (posterior_prob.max(),\n",
    "                               posterior_prob.argmax()),posterior_probs))  \n",
    "total = np.histogram(posterior_max,[0]+buckets)[0]\n",
    "binned_posterior = np.digitize(posterior_max,buckets,right=True)\n",
    "total = np.bincount(binned_posterior)\n",
    "correct_label = pred_labels == dev_labels\n",
    "correct = map(lambda bucket: sum(correct_label[np.where(bucket==binned_posterior)]),\n",
    "                     np.arange(np.max(binned_posterior)+1))\n",
    "cumsum_correct,cumsum_total = np.add.accumulate(correct),np.add.accumulate(total)\n",
    "#accuracy = cumsum_correct.astype(float)/cumsum_total"
   ]
  },
  {
   "cell_type": "code",
   "execution_count": null,
   "metadata": {},
   "outputs": [],
   "source": [
    "correct_label[np.where(binned_posterior==3)]"
   ]
  },
  {
   "cell_type": "code",
   "execution_count": null,
   "metadata": {},
   "outputs": [],
   "source": [
    "binned_posterior"
   ]
  },
  {
   "cell_type": "markdown",
   "metadata": {
    "colab_type": "text",
    "id": "h-4qQsrrhWA1"
   },
   "source": [
    "ANSWER:"
   ]
  },
  {
   "cell_type": "markdown",
   "metadata": {
    "colab_type": "text",
    "id": "jLDISyh4hWA1"
   },
   "source": [
    "### Part 12 EXTRA CREDIT:\n",
    "\n",
    "Design new features to see if you can produce a Bernoulli Naive Bayes model with better performance.  Show the accuracy of a model based on the original features and the accuracy of the model based on the new features.\n",
    "\n",
    "Here are a few ideas to get you started:\n",
    "- Try summing or averaging the pixel values in each row.\n",
    "- Try summing or averaging the pixel values in each column.\n",
    "- Try summing or averaging the pixel values in each square block. (pick various block sizes)\n",
    "- Try counting the number of enclosed regions. (8 usually has 2 enclosed regions, 9 usually has 1, and 7 usually has 0)\n",
    "\n",
    "Notes:\n",
    "* Train on the mini train set (enhanced to comprise the new features).\n",
    "* Evaulate performance on the dev set.\n",
    "* Ensure that your code is well commented."
   ]
  },
  {
   "cell_type": "code",
   "execution_count": null,
   "metadata": {
    "colab": {},
    "colab_type": "code",
    "id": "-P7h-t2ThWA2"
   },
   "outputs": [],
   "source": [
    "#def P12():\n",
    "\n",
    "### STUDENT START ###\n",
    "\n",
    "\n",
    "### STUDENT END ###\n",
    "\n",
    "#P12()"
   ]
  }
 ],
 "metadata": {
  "colab": {
   "name": "firstname_lastname_p1.ipynb",
   "private_outputs": true,
   "provenance": [
    {
     "file_id": "https://github.com/MIDS-W207/Master/blob/master/Projects/firstname_lastname_p1.ipynb",
     "timestamp": 1557957807607
    }
   ],
   "version": "0.3.2"
  },
  "kernelspec": {
   "display_name": "Python 3",
   "language": "python",
   "name": "python3"
  },
  "language_info": {
   "codemirror_mode": {
    "name": "ipython",
    "version": 3
   },
   "file_extension": ".py",
   "mimetype": "text/x-python",
   "name": "python",
   "nbconvert_exporter": "python",
   "pygments_lexer": "ipython3",
   "version": "3.7.0"
  },
  "toc": {
   "base_numbering": 1,
   "nav_menu": {},
   "number_sections": false,
   "sideBar": true,
   "skip_h1_title": true,
   "title_cell": "Table of Contents",
   "title_sidebar": "Contents",
   "toc_cell": false,
   "toc_position": {},
   "toc_section_display": true,
   "toc_window_display": false
  }
 },
 "nbformat": 4,
 "nbformat_minor": 1
}
